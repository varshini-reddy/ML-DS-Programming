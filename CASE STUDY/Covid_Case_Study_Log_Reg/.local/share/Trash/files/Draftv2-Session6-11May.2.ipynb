{
 "cells": [
  {
   "cell_type": "markdown",
   "metadata": {},
   "source": [
    "# COVID-19 Machine Learning Dataset\n",
    "## Intended For Educational Use Only\n",
    "\n",
    ">Adopted from the dataset provided by Dr. Karandeep Singh [@kdpsinghlab](https://twitter.com/kdpsinghlab/status/1239416911668092928)\n",
    "\n",
    "The goal of this case study (intended for education) is to **predict the urgency** with which a COVID-19 patient will need to be admitted to the hospital from the time of onset of symptoms\n",
    "\n",
    "The original dataset is located on this [github repo](https://github.com/ml4lhs/covid19_ml_education/raw/master/covid_ml.csv) and has been simplified for this case study\n",
    "\n",
    "The raw data comes from the following source: http://virological.org/t/epidemiological-data-from-the-ncov-2019-outbreak-early-descriptions-from-publicly-available-data/337\n",
    "\n",
    "\n",
    "**Primary predictors:**\n",
    "- age (if an age range was provided in the source data, only the first number is used)\n",
    "- sex\n",
    "- cough, fever, chills, sore_throat, headache, fatigue (all derived from the symptoms column using regular expressions)\n",
    "\n",
    ">The goal of the exercise is to make a classification model to predict the **urgency_of_admission** based on the following criteria\n",
    "1. 0-1 days from onset of symptoms to admission => High\n",
    "2. 2+ days from onset of symptoms to admission *or* no admission => Low\n",
    "  \n",
    "\n",
    "## Should this data be used for research?\n",
    "\n",
    "No. Students working with this dataset should understand that both the source data and the ML data have several limitations:\n",
    "- The source data is crowdsourced and may contain inaccuracies.\n",
    "- There may be duplicate patients in this dataset\n",
    "- There is a substantial amount of missingness in the symptoms data.\n",
    "\n",
    "## **And most importantly:**\n",
    "- The entire premise is flawed. The fact that a patient was admitted the same day as experiencing symptoms may have more to do with the availability of hospital beds as opposed to the patient's acuity of illness.\n",
    "- Also, the fact that less sick patients or asymptomatic patients may not have been captured in the source dataset mean that the probabilities estimated by any model fit on this data are unlikely to reflect reality.\n"
   ]
  },
  {
   "cell_type": "markdown",
   "metadata": {},
   "source": [
    "## BEGIN HERE"
   ]
  },
  {
   "cell_type": "code",
   "execution_count": 1,
   "metadata": {},
   "outputs": [],
   "source": [
    "import sklearn\n",
    "import pandas as pd\n",
    "import numpy as np\n",
    "import matplotlib.pyplot as plt\n",
    "%matplotlib inline\n",
    "\n",
    "#Forgotten imports\n",
    "\n",
    "from sklearn.model_selection import train_test_split\n",
    "from sklearn.linear_model import LogisticRegression\n",
    "from sklearn.metrics import confusion_matrix\n",
    "from sklearn.model_selection import GridSearchCV\n",
    "import seaborn as sns"
   ]
  },
  {
   "cell_type": "markdown",
   "metadata": {},
   "source": [
    "## Calling the dataset\n",
    ">We are using a modified dataset found here [covid_19 dataset source](Link)\n",
    "\n",
    "Following changes were made:\n",
    "1. Categorical values changed to 1 and 0\n",
    "2. Used SMOTE to upsample in order to balance the dataset"
   ]
  },
  {
   "cell_type": "code",
   "execution_count": 2,
   "metadata": {},
   "outputs": [
    {
     "data": {
      "text/html": [
       "<div>\n",
       "<style scoped>\n",
       "    .dataframe tbody tr th:only-of-type {\n",
       "        vertical-align: middle;\n",
       "    }\n",
       "\n",
       "    .dataframe tbody tr th {\n",
       "        vertical-align: top;\n",
       "    }\n",
       "\n",
       "    .dataframe thead th {\n",
       "        text-align: right;\n",
       "    }\n",
       "</style>\n",
       "<table border=\"1\" class=\"dataframe\">\n",
       "  <thead>\n",
       "    <tr style=\"text-align: right;\">\n",
       "      <th></th>\n",
       "      <th>age</th>\n",
       "      <th>sex</th>\n",
       "      <th>cough</th>\n",
       "      <th>fever</th>\n",
       "      <th>chills</th>\n",
       "      <th>sore_throat</th>\n",
       "      <th>headache</th>\n",
       "      <th>fatigue</th>\n",
       "      <th>Urgency</th>\n",
       "    </tr>\n",
       "  </thead>\n",
       "  <tbody>\n",
       "    <tr>\n",
       "      <th>0</th>\n",
       "      <td>30</td>\n",
       "      <td>1</td>\n",
       "      <td>0</td>\n",
       "      <td>0</td>\n",
       "      <td>0</td>\n",
       "      <td>0</td>\n",
       "      <td>0</td>\n",
       "      <td>0</td>\n",
       "      <td>Low</td>\n",
       "    </tr>\n",
       "    <tr>\n",
       "      <th>1</th>\n",
       "      <td>47</td>\n",
       "      <td>1</td>\n",
       "      <td>0</td>\n",
       "      <td>0</td>\n",
       "      <td>0</td>\n",
       "      <td>0</td>\n",
       "      <td>0</td>\n",
       "      <td>0</td>\n",
       "      <td>Low</td>\n",
       "    </tr>\n",
       "    <tr>\n",
       "      <th>2</th>\n",
       "      <td>49</td>\n",
       "      <td>1</td>\n",
       "      <td>0</td>\n",
       "      <td>0</td>\n",
       "      <td>0</td>\n",
       "      <td>0</td>\n",
       "      <td>0</td>\n",
       "      <td>0</td>\n",
       "      <td>Low</td>\n",
       "    </tr>\n",
       "    <tr>\n",
       "      <th>3</th>\n",
       "      <td>47</td>\n",
       "      <td>0</td>\n",
       "      <td>0</td>\n",
       "      <td>0</td>\n",
       "      <td>0</td>\n",
       "      <td>0</td>\n",
       "      <td>0</td>\n",
       "      <td>0</td>\n",
       "      <td>Low</td>\n",
       "    </tr>\n",
       "    <tr>\n",
       "      <th>4</th>\n",
       "      <td>50</td>\n",
       "      <td>0</td>\n",
       "      <td>0</td>\n",
       "      <td>0</td>\n",
       "      <td>0</td>\n",
       "      <td>0</td>\n",
       "      <td>0</td>\n",
       "      <td>0</td>\n",
       "      <td>Low</td>\n",
       "    </tr>\n",
       "  </tbody>\n",
       "</table>\n",
       "</div>"
      ],
      "text/plain": [
       "   age  sex  cough  fever  chills  sore_throat  headache  fatigue Urgency\n",
       "0   30    1      0      0       0            0         0        0     Low\n",
       "1   47    1      0      0       0            0         0        0     Low\n",
       "2   49    1      0      0       0            0         0        0     Low\n",
       "3   47    0      0      0       0            0         0        0     Low\n",
       "4   50    0      0      0       0            0         0        0     Low"
      ]
     },
     "execution_count": 2,
     "metadata": {},
     "output_type": "execute_result"
    }
   ],
   "source": [
    "df = pd.read_csv('covid_fixed.csv')\n",
    "df.head()"
   ]
  },
  {
   "cell_type": "code",
   "execution_count": 3,
   "metadata": {},
   "outputs": [],
   "source": [
    "df.Urgency = df.Urgency.map({'High':1, 'Low':0})"
   ]
  },
  {
   "cell_type": "code",
   "execution_count": 4,
   "metadata": {},
   "outputs": [],
   "source": [
    "# Separating dependent and independent variable\n",
    "X, y = df.iloc[:,:-1], df.iloc[:,-1]\n",
    "#Setting up an index for train, test split\n",
    "split_index = np.array(range(len(X)))\n",
    "itrain, itest = train_test_split(split_index, test_size = 0.2)\n",
    "\n",
    "#creating a mask to quickly access train and test data\n",
    "mask = np.zeros(len(X), dtype = 'int')\n",
    "mask[itrain] = 1\n",
    "mask = mask==1"
   ]
  },
  {
   "cell_type": "markdown",
   "metadata": {},
   "source": [
    "## GridsearchCV for Logistic Regression\n",
    ">Below we do a hyper-parameter search to get the best C value for Logistic Regression\n",
    ">> For simplicity, We will use the **Accuracy** as a scorer metric to choose best hyper-paramete"
   ]
  },
  {
   "cell_type": "code",
   "execution_count": 5,
   "metadata": {},
   "outputs": [],
   "source": [
    "#Defining a useful function that takes a set of hyper-parameters and gives us the best option\n",
    "def best_classifier(clf, params, X,y, n_folds = 5):\n",
    "    gs = GridSearchCV(clf, param_grid = params, cv=n_folds)\n",
    "    gs.fit(X,y)\n",
    "    print(\"BEST\", gs.best_params_, round(gs.best_score_,2))\n",
    "    best = gs.best_estimator_\n",
    "    return best"
   ]
  },
  {
   "cell_type": "code",
   "execution_count": 6,
   "metadata": {},
   "outputs": [
    {
     "name": "stdout",
     "output_type": "stream",
     "text": [
      "BEST {'C': 0.1} 0.61\n"
     ]
    }
   ],
   "source": [
    "#Tuning for Logistic regression\n",
    "logreg = LogisticRegression(solver= 'lbfgs', max_iter=10000)\n",
    "c_values = {\"C\": [0.0001, 0.001, 0.01, 0.1, 1, 10, 100, 1000, 10000]}\n",
    "\n",
    "#Finding the best value of C\n",
    "best = best_classifier(logreg, c_values, X[mask], y[mask], n_folds = 5)"
   ]
  },
  {
   "cell_type": "markdown",
   "metadata": {},
   "source": [
    "## Fitting the data and making predictions\n",
    ">We will also calculate the accuracy and display the confusion matrix"
   ]
  },
  {
   "cell_type": "code",
   "execution_count": 7,
   "metadata": {},
   "outputs": [
    {
     "name": "stdout",
     "output_type": "stream",
     "text": [
      "Accuracy for test set for Logistic Regression = 0.59\n"
     ]
    }
   ],
   "source": [
    "logreg = LogisticRegression(max_iter=1000,solver = 'lbfgs',C=10000)\n",
    "\n",
    "logreg.fit(X[mask], y[mask])\n",
    "\n",
    "y_pred = logreg.predict(X[~mask])\n",
    "cm_test = confusion_matrix(y[~mask], y_pred)\n",
    "\n",
    "cm_test\n",
    "\n",
    "print(f'Accuracy for test set for Logistic Regression = {(cm_test[0][0] + cm_test[1][1])/len(y[~mask]):.2f}')"
   ]
  },
  {
   "cell_type": "code",
   "execution_count": 8,
   "metadata": {},
   "outputs": [
    {
     "data": {
      "text/plain": [
       "array([0, 1])"
      ]
     },
     "execution_count": 8,
     "metadata": {},
     "output_type": "execute_result"
    }
   ],
   "source": [
    "logreg.classes_"
   ]
  },
  {
   "cell_type": "markdown",
   "metadata": {},
   "source": [
    "## Time to find best k value"
   ]
  },
  {
   "cell_type": "code",
   "execution_count": 9,
   "metadata": {},
   "outputs": [],
   "source": [
    "from sklearn.neighbors import KNeighborsClassifier\n",
    "neighbor = KNeighborsClassifier()\n",
    "k_vals = np.arange(1,50,3)\n",
    "n_vals = {\"n_neighbors\": k_vals}"
   ]
  },
  {
   "cell_type": "code",
   "execution_count": 10,
   "metadata": {},
   "outputs": [
    {
     "name": "stdout",
     "output_type": "stream",
     "text": [
      "BEST {'n_neighbors': 10} 0.63\n"
     ]
    }
   ],
   "source": [
    "best = best_classifier(neighbor, n_vals, X[mask], y[mask], n_folds = 5)"
   ]
  },
  {
   "cell_type": "markdown",
   "metadata": {},
   "source": [
    "## Now we try to do k-nn classification"
   ]
  },
  {
   "cell_type": "code",
   "execution_count": 11,
   "metadata": {},
   "outputs": [
    {
     "name": "stdout",
     "output_type": "stream",
     "text": [
      "Accuracy for test set for K-nn classification = 0.67\n"
     ]
    }
   ],
   "source": [
    "from sklearn.neighbors import KNeighborsClassifier\n",
    "neigh = KNeighborsClassifier(n_neighbors=4)\n",
    "neigh.fit(X[mask], y[mask])\n",
    "\n",
    "y_kpred = neigh.predict(X[~mask])\n",
    "\n",
    "cmk_test = confusion_matrix(y[~mask], y_kpred)\n",
    "\n",
    "cmk_test\n",
    "\n",
    "print(f'Accuracy for test set for K-nn classification = {(cmk_test[0][0] + cmk_test[1][1])/len(y[~mask]):.2f}')"
   ]
  },
  {
   "cell_type": "code",
   "execution_count": 12,
   "metadata": {},
   "outputs": [
    {
     "data": {
      "text/plain": [
       "array([[101,  31],\n",
       "       [ 53,  66]])"
      ]
     },
     "execution_count": 12,
     "metadata": {},
     "output_type": "execute_result"
    }
   ],
   "source": [
    "cmk_test"
   ]
  },
  {
   "cell_type": "markdown",
   "metadata": {},
   "source": [
    "## The confusion Matrix"
   ]
  },
  {
   "cell_type": "markdown",
   "metadata": {},
   "source": [
    " A classifier will get some samples right, and some wrong. Generally we see which ones it gets right and which ones it gets wrong on the test set\n",
    " \n",
    " ![hwimages](https://covid19.posts.ai/assets/confusionmatrix.png)\n",
    "\n",
    "### True Positive\n",
    "- Samples that are +ive and the classifier predicts as +ive are called True Positives (TP)\n",
    "\n",
    "### False Positive\n",
    "- Samples that are -ive and the classifier predicts (wrongly) as +ive are called False Positives (FP)\n",
    "\n",
    "### True Negative\n",
    "- Samples that are -ive and the classifier predicts as -ive are called True Negatives (TN)\n",
    "\n",
    "### False Negative\n",
    "- Samples that are +ive and the classifier predicts as -ive are called False Negatives (FN)\n",
    "\n",
    "<div style=\"text-align:center\"><img src=\"https://github.com/hargun3045/blog-dump/blob/master/images/Slide1.jpeg?raw=true\" /></div>"
   ]
  },
  {
   "cell_type": "markdown",
   "metadata": {},
   "source": [
    "# <ins>The boy who cried wolf: Data Science edition</ins>\n",
    "\n",
    "## ------------------------------- Predicted wolf, but no wolf -----------------------------\n",
    "<div style=\"text-align:center\"><img src=\"https://github.com/hargun3045/blog-dump/blob/master/images/False+.jpeg?raw=true\" /></div>\n",
    "\n",
    "## -------------------------Predicted no wolf, but actually wolf-------------------------\n",
    "<div style=\"text-align:center\"><img src=\"https://github.com/hargun3045/blog-dump/blob/master/images/False-.jpeg?raw=true\" /></div>"
   ]
  },
  {
   "cell_type": "code",
   "execution_count": 13,
   "metadata": {},
   "outputs": [
    {
     "data": {
      "image/png": "[encoded data removed]",
      "text/plain": [
       "<Figure size 1296x432 with 4 Axes>"
      ]
     },
     "metadata": {
      "needs_background": "light"
     },
     "output_type": "display_data"
    }
   ],
   "source": [
    "fig, axes = plt.subplots(1,2)\n",
    "fig.set_size_inches(18,6)\n",
    "dfk_cm = pd.DataFrame(cmk_test, index = ['Low','High'],columns = ['Predicted Low','Predicted High'])\n",
    "df_cm = pd.DataFrame(cm_test, index = ['Low','High'],columns = ['Predicted Low','Predicted High'])\n",
    "sns.set(font_scale=1.3)\n",
    "sns.heatmap(df_cm.iloc[-1::-1,:], annot=True,fmt= 'g', ax = axes[0])\n",
    "axes[0].set_ylim([0,2]);\n",
    "axes[0].set_title('Logistic Regression Confusion Matrix')\n",
    "# fig.savefig('Logistic_CM.png')\n",
    "sns.heatmap(dfk_cm.iloc[-1::-1,:], annot=True,fmt= 'g', ax = axes[1])\n",
    "axes[1].set_ylim([0,2]);\n",
    "axes[1].set_title('KNN Confusion Matrix');"
   ]
  },
  {
   "cell_type": "markdown",
   "metadata": {},
   "source": [
    "## **Sensitivity**\n",
    "\n",
    "The **Sensitivity**, also known as **Recall** or **True Positive Rate(TPR)**\n",
    "\n",
    "\n",
    "$$TPR = Recall = \\frac{TP}{OP} = \\frac{TP}{TP+FN},$$\n",
    "\n",
    "also called the **Hit Rate**: the fraction of observed positives (1s) the classifier gets right, or how many true positives were recalled. Maximizing the recall towards 1 means keeping down the false negative rate"
   ]
  },
  {
   "cell_type": "code",
   "execution_count": 14,
   "metadata": {},
   "outputs": [
    {
     "name": "stdout",
     "output_type": "stream",
     "text": [
      "True Positive Rate (Recall) for Logistic Regression = 73.0 %\n",
      "True Positive Rate (Recall) for KNN = 60.0 %\n"
     ]
    }
   ],
   "source": [
    "recall = (cm_test[1][1])/cm_test.sum(axis=1)[1]\n",
    "knn_recall = (cmk_test[1][1])/cmk_test.sum(axis=1)[1]\n",
    "print(f'True Positive Rate (Recall) for Logistic Regression = {100*round(recall,2)} %')\n",
    "print(f'True Positive Rate (Recall) for KNN = {100*round(knn_recall,1)} %')"
   ]
  },
  {
   "cell_type": "markdown",
   "metadata": {},
   "source": [
    "## **Specificity**\n",
    "The **Specificity** or **True Negative Rate** is defined as\n",
    "\n",
    "$$TNR = \\frac{TN}{ON} = \\frac{TN}{FP+TN}$$\n",
    "\n",
    "also called the **False Alarm Rate**, the fraction of observed negatives (0s) the classifier gets wrong. In general, you want this number to be low. "
   ]
  },
  {
   "cell_type": "code",
   "execution_count": 15,
   "metadata": {},
   "outputs": [
    {
     "name": "stdout",
     "output_type": "stream",
     "text": [
      "False Positive Rate for Logistic Regression = 50.0 %\n",
      "False Positive Rate for KNN = 23.0 %\n"
     ]
    }
   ],
   "source": [
    "fpr = (cm_test[0][1])/cm_test.sum(axis=1)[0]\n",
    "knn_fpr = (cmk_test[0][1])/cmk_test.sum(axis=1)[0]\n",
    "print(f'False Positive Rate for Logistic Regression = {100*round(fpr,1)} %')\n",
    "print(f'False Positive Rate for KNN = {100*round(knn_fpr,2)} %')"
   ]
  },
  {
   "cell_type": "markdown",
   "metadata": {},
   "source": [
    "## **Precision**\n",
    "\n",
    "**Precision**,tells you how many of the predicted positive(1) hits were truly positive\n",
    "\n",
    "$$Precision = \\frac{TP}{PP} = \\frac{TP}{TP+FP}.$$"
   ]
  },
  {
   "cell_type": "code",
   "execution_count": 21,
   "metadata": {},
   "outputs": [
    {
     "name": "stdout",
     "output_type": "stream",
     "text": [
      "Precision Rate for Logistic Regression = 65.79 %\n",
      "Precision Rate for KNN = 72.0 %\n"
     ]
    }
   ],
   "source": [
    "precision = (cm_test[1][1])/cm_test.sum(axis=0)[1]\n",
    "knn_precision = (cmk_test[1][1])/cmk_test.sum(axis=0)[1]\n",
    "print(f'Precision Rate for Logistic Regression = {100*round(precision,4)} %')\n",
    "print(f'Precision Rate for KNN = {100*round(knn_precision,2)} %')"
   ]
  },
  {
   "cell_type": "markdown",
   "metadata": {},
   "source": [
    "## **F1 score**\n",
    "**F1** score gives us the Harmonic Mean of Precision and Recall.\n",
    "It tries to minimize both **false positives** and **false negatives** simultaneously\n",
    "\n",
    "$$F1 =  \\frac{2*Recall*Precision}{Recall + Precision}$$"
   ]
  },
  {
   "cell_type": "code",
   "execution_count": 25,
   "metadata": {},
   "outputs": [
    {
     "name": "stdout",
     "output_type": "stream",
     "text": [
      "F1 score for Logistic Regression = 72.0 %\n",
      "F1 score for KNN = 69.0 %\n"
     ]
    }
   ],
   "source": [
    "f1_score = (2*precision*recall)/(recall+precision)\n",
    "knn_f1_score = (2*knn_precision*knn_recall)/(knn_recall+knn_precision)\n",
    "print(f'F1 score for Logistic Regression = {100*round(f1_score,2)} %')\n",
    "print(f'F1 score for KNN = {100*round(knn_f1_score,2)} %')"
   ]
  },
  {
   "cell_type": "code",
   "execution_count": 26,
   "metadata": {},
   "outputs": [
    {
     "name": "stdout",
     "output_type": "stream",
     "text": [
      "              precision    recall  f1-score   support\n",
      "\n",
      "           0       0.74      0.58      0.65       125\n",
      "           1       0.66      0.79      0.72       126\n",
      "\n",
      "    accuracy                           0.69       251\n",
      "   macro avg       0.70      0.69      0.69       251\n",
      "weighted avg       0.70      0.69      0.69       251\n",
      "\n"
     ]
    }
   ],
   "source": [
    "from sklearn.metrics import classification_report\n",
    "print(classification_report(y[~mask],logreg.predict(X[~mask])))"
   ]
  },
  {
   "cell_type": "code",
   "execution_count": 27,
   "metadata": {},
   "outputs": [
    {
     "name": "stdout",
     "output_type": "stream",
     "text": [
      "              precision    recall  f1-score   support\n",
      "\n",
      "           0       0.68      0.74      0.71       125\n",
      "           1       0.72      0.66      0.69       126\n",
      "\n",
      "    accuracy                           0.70       251\n",
      "   macro avg       0.70      0.70      0.70       251\n",
      "weighted avg       0.70      0.70      0.70       251\n",
      "\n"
     ]
    }
   ],
   "source": [
    "from sklearn.metrics import classification_report\n",
    "print(classification_report(y[~mask],neigh.predict(X[~mask])))"
   ]
  },
  {
   "cell_type": "markdown",
   "metadata": {},
   "source": [
    "## Note for Pavlos\n",
    "\n",
    "1. Missing definition for **Prevalance**\n",
    "2. Missing definition for **Poistive Predicted Value**\n",
    "3. Missing definition for **Negative Predicted Value**\n"
   ]
  },
  {
   "cell_type": "markdown",
   "metadata": {},
   "source": [
    "## Bayes Theorem & Diagnostic testing\n",
    "\n",
    "Refer to Rahul's [Covid19 Serological testing blog](https://covid19.posts.ai/2020/04/04/bayes-rule-and-serological-testing.html) for an excellent introduction to the above concepts"
   ]
  },
  {
   "cell_type": "markdown",
   "metadata": {},
   "source": [
    "## ROC Curve\n",
    "\n",
    "To make a ROC curve you plot the True Positive Rate, against the False Positive Rate,\n",
    "\n",
    "The curve is actually a 3 dimensional plot, which each point representing a different value of threshold.\n",
    "\n",
    "![ROC](https://github.com/hargun3045/blog-dump/blob/master/pavloss6/roc-curve.png?raw=true)\n"
   ]
  },
  {
   "cell_type": "code",
   "execution_count": 28,
   "metadata": {},
   "outputs": [
    {
     "data": {
      "image/png": "[encoded data removed]",
      "text/plain": [
       "<Figure size 1120x640 with 1 Axes>"
      ]
     },
     "metadata": {},
     "output_type": "display_data"
    }
   ],
   "source": [
    "#Import stuff\n",
    "from sklearn.metrics import roc_auc_score\n",
    "from sklearn.metrics import roc_curve\n",
    "\n",
    "plt.style.use('classic')\n",
    "# Area under curve - Logistic regression & KNN\n",
    "yvals = 1*(y[~mask].values == 1)\n",
    "ypredvals = 1*(logreg.predict(X[~mask])==1)\n",
    "ykpredvals = 1*(neigh.predict(X[~mask])==1)\n",
    "#logreg_roc_auc = roc_auc_score(y[~mask],logreg.predict(X[~mask]))\n",
    "logreg_roc_auc = roc_auc_score(yvals,ypredvals)\n",
    "#knn_roc_auc = roc_auc_score(y[~mask],neigh.predict(X[~mask]))\n",
    "knn_roc_auc = roc_auc_score(yvals,ykpredvals)\n",
    "\n",
    "#ROC Curve values\n",
    "fpr, tpr, thresholds = roc_curve(yvals, logreg.predict_proba(X[~mask])[:,1])\n",
    "kfpr, ktpr, kthresholds = roc_curve(yvals, neigh.predict_proba(X[~mask])[:,1])\n",
    "fig, ax = plt.subplots(figsize = (14,8))\n",
    "\n",
    "ax.plot(fpr, tpr, label=f'Logistic Regression (area = {logreg_roc_auc:.2f})', color = 'b')\n",
    "ax.plot(kfpr, ktpr, label=f'KNN (area = {knn_roc_auc:.2f})', color = 'g')\n",
    "\n",
    "label_kwargs = {}\n",
    "label_kwargs['bbox'] = dict(\n",
    "    boxstyle='round,pad=0.3', alpha=0.4,\n",
    ")\n",
    "\n",
    "#\n",
    "for k in range(0, fpr.shape[0],10):\n",
    "    #from https://gist.github.com/podshumok/c1d1c9394335d86255b8\n",
    "    threshold = str(np.round(thresholds[k], 2))\n",
    "    ax.annotate(threshold, (fpr[k], tpr[k]), **label_kwargs)\n",
    "    \n",
    "for k in range(1, kfpr.shape[0]):\n",
    "    #from https://gist.github.com/podshumok/c1d1c9394335d86255b8\n",
    "    threshold = str(np.round(kthresholds[k], 2))\n",
    "    ax.annotate(threshold, (kfpr[k], ktpr[k]),color='r', **label_kwargs)\n",
    "\n",
    "ax.plot([0, 1], [0, 1],'r--')\n",
    "ax.set_xlim([0.0, 1.0])\n",
    "ax.set_ylim([0.0, 1.05])\n",
    "ax.set_xlabel('False Positive Rate')\n",
    "ax.set_ylabel('True Positive Rate')\n",
    "ax.set_title('Receiver operating characteristic')\n",
    "ax.legend(loc=\"lower right\");"
   ]
  },
  {
   "cell_type": "markdown",
   "metadata": {},
   "source": [
    "# Model In action\n",
    "\n",
    "[![Covid-19 detector](https://github.com/hargun3045/blog-dump/blob/master/hargun-images/app.png?raw=true)](https://covid19-app-272409.appspot.com/)"
   ]
  },
  {
   "cell_type": "code",
   "execution_count": null,
   "metadata": {},
   "outputs": [],
   "source": []
  }
 ],
 "metadata": {
  "kernelspec": {
   "display_name": "Python 3",
   "language": "python",
   "name": "python3"
  },
  "language_info": {
   "codemirror_mode": {
    "name": "ipython",
    "version": 3
   },
   "file_extension": ".py",
   "mimetype": "text/x-python",
   "name": "python",
   "nbconvert_exporter": "python",
   "pygments_lexer": "ipython3",
   "version": "3.8.2"
  }
 },
 "nbformat": 4,
 "nbformat_minor": 4
}
