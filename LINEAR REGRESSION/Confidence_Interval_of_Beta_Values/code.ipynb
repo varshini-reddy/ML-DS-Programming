{
    "metadata": {
        "kernelspec": {
            "name": "python3",
            "display_name": "Python 3",
            "language": "python"
        }
    },
    "nbformat": 4,
    "nbformat_minor": 4,
    "cells": [
        {
            "cell_type": "code",
            "execution_count": 1,
            "metadata": {},
            "outputs": [],
            "source": [
                "# import the libraries\n",
                "import pandas as pd\n",
                "import numpy as np\n",
                "import matplotlib.pyplot as plt\n",
                "%matplotlib inline"
            ]
        },
        {
            "attachments": {},
            "cell_type": "markdown",
            "metadata": {},
            "source": [
                "### Reading the standard Advertising dataset"
            ]
        },
        {
            "cell_type": "code",
            "execution_count": 2,
            "metadata": {},
            "outputs": [],
            "source": [
                "# Read the 'Advertising_adj.csv' file\n",
                "df = pd.read_csv('Advertising_adj.csv')"
            ]
        },
        {
            "cell_type": "code",
            "execution_count": 3,
            "metadata": {},
            "outputs": [],
            "source": [
                "# Use your bootstrap function from the previous exercise\n",
                "def bootstrap(df):\n",
                "    selectionIndex = np.random.randint(len(df), size = len(df))\n",
                "    new_df = df.iloc[selectionIndex]\n",
                "    return new_df"
            ]
        },
        {
            "cell_type": "code",
            "execution_count": 4,
            "metadata": {},
            "outputs": [],
            "source": [
                "# Like last time, create a list of beta values using 1000 bootstraps of your original data\n",
                "beta0_list, beta1_list = [],[]\n",
                "\n",
                "numberOfBootstraps = 100\n",
                "\n",
                "for i in range(numberOfBootstraps):\n",
                "    df_new = bootstrap(df)\n",
                "    \n",
                "    xmean = df_new.tv.mean()\n",
                "    ymean = df_new.sales.mean()\n",
                "    \n",
                "    beta1 = (((df_new.tv - xmean)*(df_new.sales - ymean)).sum())/(((df_new.tv - xmean)**2).sum())\n",
                "    beta0 = ymean - beta1*xmean\n",
                "    \n",
                "    beta0_list.append(beta0)\n",
                "    beta1_list.append(beta1)"
            ]
        },
        {
            "cell_type": "code",
            "execution_count": 5,
            "metadata": {},
            "outputs": [],
            "source": [
                "### edTest(test_sort) ###\n",
                "\n",
                "# Sort the two lists of beta values  from lowest value to highest \n",
                "beta0_list.sort();\n",
                "beta1_list.sort();"
            ]
        },
        {
            "cell_type": "code",
            "execution_count": 6,
            "metadata": {},
            "outputs": [],
            "source": [
                "### edTest(test_beta) ###\n",
                "\n",
                "# Now we find the confidence interval\n",
                "# Find the 95% percent confidence interval using the percentile function\n",
                "beta0_CI = (np.percentile(beta0_list,2.5),np.percentile(beta0_list,97.5))\n",
                "\n",
                "beta1_CI = (np.percentile(beta1_list,2.5),np.percentile(beta1_list,97.5))"
            ]
        },
        {
            "cell_type": "code",
            "execution_count": 7,
            "metadata": {},
            "outputs": [
                {
                    "name": "stdout",
                    "output_type": "stream",
                    "text": "The beta0 confidence interval is (135.19638515933522, 163.7355152432198)\n"
                }
            ],
            "source": [
                "#Print the confidence interval of beta0 upto 3 decimal points\n",
                "print(f'The beta0 confidence interval is {beta0_CI}')"
            ]
        },
        {
            "cell_type": "code",
            "execution_count": 8,
            "metadata": {},
            "outputs": [
                {
                    "name": "stdout",
                    "output_type": "stream",
                    "text": "The beta1 confidence interval is (0.8698092980201402, 1.1365810341203768)\n"
                }
            ],
            "source": [
                "#Print the confidence interval of beta1 upto 3 decimal points\n",
                "print(f'The beta1 confidence interval is {beta1_CI}')"
            ]
        },
        {
            "cell_type": "code",
            "execution_count": 9,
            "metadata": {},
            "outputs": [],
            "source": [
                "# Use this helper function to plot the histogram of beta values along with the 95% confidence interval\n",
                "def plot_simulation(simulation,confidence):\n",
                "    plt.hist(simulation, bins = 30, label = 'beta distribution', align = 'left', density = True)\n",
                "    plt.axvline(confidence[1], 0, 1, color = 'r', label = 'Right Interval')\n",
                "    plt.axvline(confidence[0], 0, 1, color = 'red', label = 'Left Interval')\n",
                "    plt.xlabel('Beta value')\n",
                "    plt.ylabel('Frequency')\n",
                "    plt.title('Confidence Interval')\n",
                "    plt.legend(frameon = False, loc = 'upper right')\n",
                ""
            ]
        },
        {
            "cell_type": "code",
            "execution_count": 10,
            "metadata": {},
            "outputs": [
                {
                    "data": {
                        "image/png": "[encoded data removed]",
                        "text/plain": [
                            "\u003cFigure size 432x288 with 1 Axes\u003e"
                        ]
                    },
                    "metadata": {
                        "needs_background": "light"
                    },
                    "output_type": "display_data"
                }
            ],
            "source": [
                "# Plot for beta 0\n",
                "plot_simulation(beta0_list,beta0_CI)"
            ]
        },
        {
            "cell_type": "code",
            "execution_count": 11,
            "metadata": {},
            "outputs": [
                {
                    "data": {
                        "image/png": "[encoded data removed]",
                        "text/plain": [
                            "\u003cFigure size 432x288 with 1 Axes\u003e"
                        ]
                    },
                    "metadata": {
                        "needs_background": "light"
                    },
                    "output_type": "display_data"
                }
            ],
            "source": [
                "#Plot for beta 1\n",
                "plot_simulation(beta1_list,beta1_CI)"
            ]
        },
        {
            "cell_type": "code",
            "execution_count": 0,
            "metadata": {},
            "outputs": [],
            "source": [
                ""
            ]
        }
    ]
}
