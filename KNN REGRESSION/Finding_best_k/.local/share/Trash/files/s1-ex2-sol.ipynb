{
 "cells": [
  {
   "cell_type": "code",
   "execution_count": 6,
   "metadata": {},
   "outputs": [],
   "source": [
    "import pandas as pd \n",
    "import numpy as np\n",
    "from sklearn.model_selection import train_test_split\n",
    "from sklearn.neighbors import KNeighborsRegressor\n",
    "from sklearn.metrics import mean_squared_error\n",
    "import matplotlib.pyplot as plt\n",
    "%matplotlib inline"
   ]
  },
  {
   "cell_type": "markdown",
   "metadata": {},
   "source": [
    "### Reading the standard Advertising dataset"
   ]
  },
  {
   "cell_type": "code",
   "execution_count": 7,
   "metadata": {},
   "outputs": [],
   "source": [
    "# Data set used in this exercise\n",
    "data_filename = 'Advertising.csv'\n",
    "\n",
    "# Read advertising.csv file using the pandas library (using pandas.read_csv)\n",
    "df = pd.read_csv(data_filename)\n",
    "\n",
    "#Selecting the predictor and response variables\n",
    "X = df[['TV']]\n",
    "y = df['sales']"
   ]
  },
  {
   "cell_type": "markdown",
   "metadata": {},
   "source": [
    "### Train-Test split"
   ]
  },
  {
   "cell_type": "code",
   "execution_count": 8,
   "metadata": {},
   "outputs": [],
   "source": [
    "# Split the dataset in training and testing with 60% training set and 40% testing set \n",
    "X_train, X_test, y_train, y_test = train_test_split(X, y, test_size=0.4, random_state=66)\n"
   ]
  },
  {
   "cell_type": "code",
   "execution_count": 9,
   "metadata": {},
   "outputs": [],
   "source": [
    "# Choosing k range \n",
    "k_value_min = 1\n",
    "k_value_max = 20\n",
    "\n",
    "\n",
    "# creating list of integer k values betwwen k_value_min and k_value_max using linspace\n",
    "k_list = np.linspace(k_value_min,k_value_max,num=k_value_max-k_value_min+1, dtype=int)"
   ]
  },
  {
   "cell_type": "markdown",
   "metadata": {},
   "source": [
    "### Model fit"
   ]
  },
  {
   "cell_type": "code",
   "execution_count": 10,
   "metadata": {},
   "outputs": [],
   "source": [
    "# creating a dictionary for storing k value against MSE fit {k: MSE@k} \n",
    "knn_dict = {}\n",
    "\n",
    "# Looping over k values\n",
    "for k_value in k_list:   \n",
    "    \n",
    "    # creating KNN Regression model \n",
    "    model = KNeighborsRegressor(n_neighbors=k_value)\n",
    "            \n",
    "    # fitting model \n",
    "    model.fit(X_train,y_train)\n",
    "    \n",
    "    # predictions\n",
    "    y_pred = model.predict(X_test)\n",
    "    \n",
    "    # Calculating MSE \n",
    "    MSE = mean_squared_error(y_test, y_pred, squared=True)\n",
    "    \n",
    "    #Storing the MSE values of each k value in a dictionary\n",
    "    knn_dict[k_value] = MSE"
   ]
  },
  {
   "cell_type": "markdown",
   "metadata": {},
   "source": [
    "### Graph plot"
   ]
  },
  {
   "cell_type": "code",
   "execution_count": 12,
   "metadata": {},
   "outputs": [
    {
     "data": {
      "image/png": "[encoded data removed]",
      "text/plain": [
       "<Figure size 432x288 with 1 Axes>"
      ]
     },
     "metadata": {
      "needs_background": "light"
     },
     "output_type": "display_data"
    }
   ],
   "source": [
    "# Plot k against MSE\n",
    "plt.figure()\n",
    "plt.scatter(knn_dict.keys(), knn_dict.values())\n",
    "plt.xlabel('k')\n",
    "plt.ylabel('MSE')\n",
    "plt.xticks(np.arange(1,21))\n",
    "plt.show();"
   ]
  },
  {
   "cell_type": "markdown",
   "metadata": {},
   "source": [
    "### Find the best knn model"
   ]
  },
  {
   "cell_type": "code",
   "execution_count": 21,
   "metadata": {},
   "outputs": [
    {
     "name": "stdout",
     "output_type": "stream",
     "text": [
      "The best k value is  9 with a MSE of  13.045483024691356\n"
     ]
    }
   ],
   "source": [
    "# Looking for k with minimum MSE\n",
    "min_mse = min(knn_dict.values())\n",
    "best_model = [key  for (key, value) in knn_dict.items() if value == min_mse]\n",
    "print (\"The best k value is \",best_model[0],\"with a MSE of \", min_mse)"
   ]
  },
  {
   "cell_type": "code",
   "execution_count": null,
   "metadata": {},
   "outputs": [],
   "source": []
  }
 ],
 "metadata": {
  "kernelspec": {
   "display_name": "Python 3",
   "language": "python",
   "name": "python3"
  },
  "language_info": {
   "codemirror_mode": {
    "name": "ipython",
    "version": 3
   },
   "file_extension": ".py",
   "mimetype": "text/x-python",
   "name": "python",
   "nbconvert_exporter": "python",
   "pygments_lexer": "ipython3",
   "version": "3.8.5"
  }
 },
 "nbformat": 4,
 "nbformat_minor": 2
}
