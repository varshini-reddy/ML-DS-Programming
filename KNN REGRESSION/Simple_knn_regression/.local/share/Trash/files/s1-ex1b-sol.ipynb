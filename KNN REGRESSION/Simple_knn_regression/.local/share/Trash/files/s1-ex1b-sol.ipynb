{
 "cells": [
  {
   "cell_type": "code",
   "execution_count": null,
   "metadata": {},
   "outputs": [],
   "source": [
    "import numpy as np\n",
    "import pandas as pd\n",
    "import matplotlib.pyplot as plt\n",
    "%matplotlib inline"
   ]
  },
  {
   "cell_type": "markdown",
   "metadata": {},
   "source": [
    "### Reading the dataset"
   ]
  },
  {
   "cell_type": "code",
   "execution_count": null,
   "metadata": {},
   "outputs": [],
   "source": [
    "# Read data\n",
    "df_adv = pd.read_csv('Advertising.csv')"
   ]
  },
  {
   "cell_type": "code",
   "execution_count": null,
   "metadata": {},
   "outputs": [],
   "source": [
    "# Get a subset of the data row 5 to 13 and only TV advertisement\n",
    "data_x = df_adv.TV[5:13]\n",
    "data_y = df_adv.sales[5:13]\n",
    "\n",
    "# Sort the data\n",
    "idx = np.argsort(data_x).values # Get indices ordered from lowest to highest values\n",
    "\n",
    "# Get the actual data in the order from above\n",
    "data_x  = data_x.iloc[idx].values\n",
    "data_y  = data_y.iloc[idx].values"
   ]
  },
  {
   "cell_type": "code",
   "execution_count": null,
   "metadata": {},
   "outputs": [],
   "source": [
    "### edTest(test_findnearest) ###\n",
    "# Define a function that finds the index of the nearest neighbor \n",
    "# and returns the value of the nearest neighbor.  Note that this \n",
    "# is just for k = 1 and the distance function is simply the \n",
    "# absolute value.\n",
    "def find_nearest(array,value):\n",
    "    idx = (np.abs(array-value)).idxmin()\n",
    "    return idx, array[idx]"
   ]
  },
  {
   "cell_type": "code",
   "execution_count": null,
   "metadata": {},
   "outputs": [],
   "source": [
    "# Create some artificial x-values (might not be in the actual dataset)\n",
    "x = np.linspace(np.min(data_x), np.max(data_x))\n",
    "\n",
    "# Initialize the y-values to zero\n",
    "y = np.zeros( (len(x)))"
   ]
  },
  {
   "cell_type": "code",
   "execution_count": null,
   "metadata": {},
   "outputs": [],
   "source": [
    "# Apply the KNN algorithm.  Try to predict the y-value at a given x-value\n",
    "# Note:  You may have tried to use the `range' method in your code.  Enumerate \n",
    "# is far better in this case.  Try to understand why.\n",
    "for i, xi in enumerate(x):\n",
    "    y[i] = data_y[find_nearest( data_x, xi )[0]]"
   ]
  },
  {
   "cell_type": "markdown",
   "metadata": {},
   "source": [
    "### Plotting the data"
   ]
  },
  {
   "cell_type": "code",
   "execution_count": null,
   "metadata": {},
   "outputs": [],
   "source": [
    "# Plot your solution    \n",
    "plt.plot(x,y, '-.')\n",
    "# Plot the original data using black x's.\n",
    "plt.plot(df_adv.TV[5:13], df_adv.sales[5:13], 'kx')\n",
    "plt.title('')\n",
    "plt.xlabel('TV budget in $1000')\n",
    "plt.ylabel('Sales in $1000')\n",
    "\n",
    "# Save the figure if savefig=True\n",
    "plt.savefig('Lecture4_Q2.png',dpi=300)"
   ]
  }
 ],
 "metadata": {
  "kernelspec": {
   "display_name": "Python 3",
   "language": "python",
   "name": "python3"
  },
  "language_info": {
   "codemirror_mode": {
    "name": "ipython",
    "version": 3
   },
   "file_extension": ".py",
   "mimetype": "text/x-python",
   "name": "python",
   "nbconvert_exporter": "python",
   "pygments_lexer": "ipython3",
   "version": "3.8.5"
  }
 },
 "nbformat": 4,
 "nbformat_minor": 2
}
