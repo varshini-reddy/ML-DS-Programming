{
    "metadata": {
        "kernelspec": {
            "name": "python3",
            "display_name": "Python 3",
            "language": "python"
        }
    },
    "nbformat": 4,
    "nbformat_minor": 4,
    "cells": [
        {
            "cell_type": "code",
            "execution_count": 1,
            "metadata": {},
            "outputs": [],
            "source": [
                "# import libraries\n",
                "\n",
                "import pandas as pd \n",
                "from sklearn.model_selection import train_test_split\n",
                "from sklearn import model_selection\n",
                "from sklearn.model_selection import cross_val_score\n",
                "from sklearn.metrics import accuracy_score\n",
                "from sklearn.utils import shuffle\n",
                "from sklearn.linear_model import LogisticRegression\n",
                "from sklearn import preprocessing\n",
                "import numpy as np\n",
                ""
            ]
        },
        {
            "attachments": {},
            "cell_type": "markdown",
            "metadata": {},
            "source": [
                "### Reading the dataset"
            ]
        },
        {
            "cell_type": "code",
            "execution_count": 2,
            "metadata": {},
            "outputs": [
                {
                    "data": {
                        "text/html": "\u003cdiv\u003e\n\u003cstyle scoped\u003e\n    .dataframe tbody tr th:only-of-type {\n        vertical-align: middle;\n    }\n\n    .dataframe tbody tr th {\n        vertical-align: top;\n    }\n\n    .dataframe thead th {\n        text-align: right;\n    }\n\u003c/style\u003e\n\u003ctable border=\"1\" class=\"dataframe\"\u003e\n  \u003cthead\u003e\n    \u003ctr style=\"text-align: right;\"\u003e\n      \u003cth\u003e\u003c/th\u003e\n      \u003cth\u003esepal_length\u003c/th\u003e\n      \u003cth\u003esepal_width\u003c/th\u003e\n      \u003cth\u003epetal_length\u003c/th\u003e\n      \u003cth\u003epetal_width\u003c/th\u003e\n      \u003cth\u003especies\u003c/th\u003e\n    \u003c/tr\u003e\n  \u003c/thead\u003e\n  \u003ctbody\u003e\n    \u003ctr\u003e\n      \u003cth\u003e0\u003c/th\u003e\n      \u003ctd\u003e5.1\u003c/td\u003e\n      \u003ctd\u003e3.5\u003c/td\u003e\n      \u003ctd\u003e1.4\u003c/td\u003e\n      \u003ctd\u003e0.2\u003c/td\u003e\n      \u003ctd\u003eIris-setosa\u003c/td\u003e\n    \u003c/tr\u003e\n    \u003ctr\u003e\n      \u003cth\u003e1\u003c/th\u003e\n      \u003ctd\u003e4.9\u003c/td\u003e\n      \u003ctd\u003e3.0\u003c/td\u003e\n      \u003ctd\u003e1.4\u003c/td\u003e\n      \u003ctd\u003e0.2\u003c/td\u003e\n      \u003ctd\u003eIris-setosa\u003c/td\u003e\n    \u003c/tr\u003e\n    \u003ctr\u003e\n      \u003cth\u003e2\u003c/th\u003e\n      \u003ctd\u003e4.7\u003c/td\u003e\n      \u003ctd\u003e3.2\u003c/td\u003e\n      \u003ctd\u003e1.3\u003c/td\u003e\n      \u003ctd\u003e0.2\u003c/td\u003e\n      \u003ctd\u003eIris-setosa\u003c/td\u003e\n    \u003c/tr\u003e\n    \u003ctr\u003e\n      \u003cth\u003e3\u003c/th\u003e\n      \u003ctd\u003e4.6\u003c/td\u003e\n      \u003ctd\u003e3.1\u003c/td\u003e\n      \u003ctd\u003e1.5\u003c/td\u003e\n      \u003ctd\u003e0.2\u003c/td\u003e\n      \u003ctd\u003eIris-setosa\u003c/td\u003e\n    \u003c/tr\u003e\n    \u003ctr\u003e\n      \u003cth\u003e4\u003c/th\u003e\n      \u003ctd\u003e5.0\u003c/td\u003e\n      \u003ctd\u003e3.6\u003c/td\u003e\n      \u003ctd\u003e1.4\u003c/td\u003e\n      \u003ctd\u003e0.2\u003c/td\u003e\n      \u003ctd\u003eIris-setosa\u003c/td\u003e\n    \u003c/tr\u003e\n  \u003c/tbody\u003e\n\u003c/table\u003e\n\u003c/div\u003e",
                        "text/plain": "   sepal_length  sepal_width  petal_length  petal_width      species\n0           5.1          3.5           1.4          0.2  Iris-setosa\n1           4.9          3.0           1.4          0.2  Iris-setosa\n2           4.7          3.2           1.3          0.2  Iris-setosa\n3           4.6          3.1           1.5          0.2  Iris-setosa\n4           5.0          3.6           1.4          0.2  Iris-setosa"
                    },
                    "execution_count": 2,
                    "metadata": {},
                    "output_type": "execute_result"
                }
            ],
            "source": [
                "# Read the \"IRIS.csv\" dataset and take a quick look\n",
                "\n",
                "df = pd.read_csv(\"IRIS.csv\")\n",
                "\n",
                "df.head()"
            ]
        },
        {
            "cell_type": "code",
            "execution_count": 3,
            "metadata": {},
            "outputs": [],
            "source": [
                "# You may have noticed that the 'species' column is not shuffled\n",
                "\n",
                "# Use the shuffle function to shuffle the dataset\n",
                "\n",
                "df = shuffle(df)"
            ]
        },
        {
            "attachments": {},
            "cell_type": "markdown",
            "metadata": {},
            "source": [
                "### Assigning dependent and independent variables"
            ]
        },
        {
            "cell_type": "code",
            "execution_count": 4,
            "metadata": {},
            "outputs": [],
            "source": [
                "# Assign sepal_length as the predictor\n",
                "\n",
                "X = df[['sepal_length']]\n",
                "\n",
                "# Assign the 'species' column as response\n",
                "\n",
                "y = df['species']"
            ]
        },
        {
            "attachments": {},
            "cell_type": "markdown",
            "metadata": {},
            "source": [
                "### Splitting the dataset"
            ]
        },
        {
            "cell_type": "code",
            "execution_count": 8,
            "metadata": {},
            "outputs": [],
            "source": [
                "# Now split the data into train and test validation sets\n",
                "\n",
                "X_train, X_val, y_train, y_val = train_test_split(X, y, train_size = 0.8, random_state = 66)\n",
                ""
            ]
        },
        {
            "attachments": {},
            "cell_type": "markdown",
            "metadata": {},
            "source": [
                "### Model fitting"
            ]
        },
        {
            "cell_type": "code",
            "execution_count": 9,
            "metadata": {},
            "outputs": [],
            "source": [
                "### edTest(test_model) ###\n",
                "# Create a logistic regression model, with random state=5\n",
                "\n",
                "lreg = LogisticRegression(random_state=5, max_iter = 20000,C=100000)\n",
                "\n",
                "#Fit the model using the training set\n",
                "\n",
                "lreg.fit(X_train,y_train)\n",
                "\n",
                "# Make the predictions on the training \u0026 validation set\n",
                "\n",
                "y_train_pred = lreg.predict(X_train)\n",
                "\n",
                "y_val_pred = lreg.predict(X_val)\n",
                ""
            ]
        },
        {
            "attachments": {},
            "cell_type": "markdown",
            "metadata": {},
            "source": [
                "### Accuracy computation"
            ]
        },
        {
            "cell_type": "code",
            "execution_count": 10,
            "metadata": {},
            "outputs": [
                {
                    "name": "stdout",
                    "output_type": "stream",
                    "text": "Train Accuracy 0.75\nValidation Accuracy 0.7333333333333333\n"
                }
            ],
            "source": [
                "### edTest(test_accuracy) ###\n",
                "\n",
                "# Compute the training \u0026 validation accuracy using the accuracy_score() function\n",
                "\n",
                "train_accuracy = accuracy_score(y_train_pred, y_train)\n",
                "validation_accuracy = accuracy_score(y_val_pred, y_val)\n",
                "\n",
                "# Print the two accuracies below\n",
                "\n",
                "print(\"Train Accuracy\", train_accuracy)\n",
                "print(\"Validation Accuracy\", validation_accuracy)"
            ]
        },
        {
            "attachments": {},
            "cell_type": "markdown",
            "metadata": {},
            "source": [
                "### Accuracy with cross validation"
            ]
        },
        {
            "cell_type": "code",
            "execution_count": 11,
            "metadata": {},
            "outputs": [
                {
                    "name": "stdout",
                    "output_type": "stream",
                    "text": "CV Score [0.66666667 0.93333333 0.6        0.66666667 0.66666667 0.66666667\n 0.66666667 0.86666667 0.8        0.8       ] \n\n"
                }
            ],
            "source": [
                "### edTest(test_crossval) ###\n",
                "# For reasons discussed in Session 4, we always want to use cross-validation\n",
                "\n",
                "# Use the cross_val_score function with k=10 folds and print the cross validation score with scoring=\"Accuracy\"\n",
                "\n",
                "cv_score = cross_val_score(lreg, X,y, cv=10, scoring = \"accuracy\")\n",
                "\n",
                "# Print the cross validation scores\n",
                "\n",
                "print(\"CV Score\", cv_score,'\\n')"
            ]
        },
        {
            "cell_type": "code",
            "execution_count": 12,
            "metadata": {},
            "outputs": [
                {
                    "name": "stdout",
                    "output_type": "stream",
                    "text": "The mean of 10-fold cross validation accuracy is 0.7333333333333332 with std deviation 0.10327955589886448\nCompared to the validation accuracy from above 0.7333333333333333\n"
                }
            ],
            "source": [
                "# Find the mean \u0026 std deviation of cv_score\n",
                "\n",
                "cv_score_mean = np.mean(cv_score)\n",
                "cv_score_std = np.std(cv_score)\n",
                "\n",
                "print(f\"The mean of 10-fold cross validation accuracy is {cv_score_mean} with std deviation {cv_score_std}\")\n",
                "print(f\"Compared to the validation accuracy from above {validation_accuracy}\")      "
            ]
        },
        {
            "attachments": {},
            "cell_type": "markdown",
            "metadata": {},
            "source": [
                "### Post exercise questions\n",
                "\n",
                "1. Change the random_state of the `train_test_split` and rerun your code to see if the validation accuracy or the cross-validation accuracy changes. If either does, answer why."
            ]
        },
        {
            "cell_type": "code",
            "execution_count": 0,
            "metadata": {},
            "outputs": [],
            "source": [
                "# Your answer here"
            ]
        },
        {
            "attachments": {},
            "cell_type": "markdown",
            "metadata": {},
            "source": [
                "2. `LogisticRegression` takes a random_state, but `LinearRegression` does not. Why? (Hint: Read the docs)"
            ]
        },
        {
            "cell_type": "code",
            "execution_count": 0,
            "metadata": {},
            "outputs": [],
            "source": [
                "# Your answer here"
            ]
        },
        {
            "attachments": {},
            "cell_type": "markdown",
            "metadata": {},
            "source": [
                "3. Go back, change your predictor variable to petal_length. Run the code again. What change do you notice?"
            ]
        },
        {
            "cell_type": "code",
            "execution_count": 0,
            "metadata": {},
            "outputs": [],
            "source": [
                "# Your answer here"
            ]
        }
    ]
}
