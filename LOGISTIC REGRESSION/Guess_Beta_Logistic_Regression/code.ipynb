{
    "metadata": {
        "kernelspec": {
            "name": "python3",
            "display_name": "Python 3",
            "language": "python"
        }
    },
    "nbformat": 4,
    "nbformat_minor": 4,
    "cells": [
        {
            "cell_type": "code",
            "execution_count": 1,
            "metadata": {},
            "outputs": [],
            "source": [
                "# import important libraries\n",
                "\n",
                "%matplotlib inline\n",
                "import numpy as np\n",
                "import pandas as pd\n",
                "from math import exp\n",
                "import matplotlib.pyplot as plt\n",
                "from sklearn.preprocessing import normalize\n",
                "from sklearn.metrics import accuracy_score"
            ]
        },
        {
            "cell_type": "code",
            "execution_count": 2,
            "metadata": {},
            "outputs": [],
            "source": [
                "# Make a dataframe of the file \"insurance_claim.csv\"\n",
                "\n",
                "data_filename = 'insurance_claim.csv'\n",
                "df = pd.read_csv(data_filename)"
            ]
        },
        {
            "attachments": {},
            "cell_type": "markdown",
            "metadata": {},
            "source": [
                "### Assigning predictor and response variables"
            ]
        },
        {
            "cell_type": "code",
            "execution_count": 3,
            "metadata": {},
            "outputs": [],
            "source": [
                "# Assign the predictor to variable 'x' \n",
                "\n",
                "x = df['age'].values\n",
                "\n",
                "# Assign the response to variable 'y'\n",
                "\n",
                "y = df['insuranceclaim'].values\n",
                ""
            ]
        },
        {
            "cell_type": "code",
            "execution_count": 4,
            "metadata": {},
            "outputs": [
                {
                    "data": {
                        "image/png": "[encoded data removed]",
                        "text/plain": [
                            "\u003cFigure size 432x288 with 1 Axes\u003e"
                        ]
                    },
                    "metadata": {
                        "needs_background": "light"
                    },
                    "output_type": "display_data"
                }
            ],
            "source": [
                "# Make a plot of the response (Insurance claim) vs the predictor (Age)\n",
                "\n",
                "plt.plot(df[['age']],y,'o', markersize=7,color=\"#011DAD\",label=\"Data\")\n",
                "\n",
                "plt.xticks(np.arange(18, 80, 4.0))\n",
                "\n",
                "plt.xlabel(\"Age\")\n",
                "\n",
                "plt.ylabel(\"Insurance claim\")\n",
                "\n",
                "plt.yticks((0,1), labels=('No', 'Yes'))\n",
                "\n",
                "plt.legend()\n",
                "\n",
                "plt.show()"
            ]
        },
        {
            "attachments": {},
            "cell_type": "markdown",
            "metadata": {},
            "source": [
                "### Beta Estimation"
            ]
        },
        {
            "cell_type": "code",
            "execution_count": 5,
            "metadata": {},
            "outputs": [],
            "source": [
                "# Guesstimate the values of beta0 \u0026 beta1\n",
                "\n",
                "\n",
                "beta0 = -40\n",
                "\n",
                "beta1 = 1\n",
                ""
            ]
        },
        {
            "attachments": {},
            "cell_type": "markdown",
            "metadata": {},
            "source": [
                "### Predicting the response"
            ]
        },
        {
            "cell_type": "code",
            "execution_count": 6,
            "metadata": {},
            "outputs": [],
            "source": [
                "# Use the logistic function below to predict the response based on the iput\n",
                "\n",
                "logit = []\n",
                "\n",
                "for i in x:\n",
                "    h = -1*(beta0 + (beta1 * i))\n",
                "    \n",
                "    logit.append(1/(1+exp(h)))\n",
                "\n",
                "y_pred = [1 if x \u003e= 0.5 else 0 for x in logit]\n",
                ""
            ]
        },
        {
            "attachments": {},
            "cell_type": "markdown",
            "metadata": {},
            "source": [
                "### Computing the accuracy"
            ]
        },
        {
            "cell_type": "code",
            "execution_count": 7,
            "metadata": {},
            "outputs": [
                {
                    "name": "stdout",
                    "output_type": "stream",
                    "text": "0.98\n"
                }
            ],
            "source": [
                "# Use accuracy_score function to find the accuracy \n",
                "\n",
                "accuracy = accuracy_score(y, y_pred)\n",
                "\n",
                "# Print the accuracy\n",
                "print (accuracy)"
            ]
        },
        {
            "attachments": {},
            "cell_type": "markdown",
            "metadata": {},
            "source": [
                "### Plotting the graph"
            ]
        },
        {
            "cell_type": "code",
            "execution_count": 8,
            "metadata": {},
            "outputs": [
                {
                    "data": {
                        "image/png": "[encoded data removed]",
                        "text/plain": [
                            "\u003cFigure size 432x288 with 1 Axes\u003e"
                        ]
                    },
                    "metadata": {
                        "needs_background": "light"
                    },
                    "output_type": "display_data"
                }
            ],
            "source": [
                "# Make a plot similar to the one above, but this time also plot y_pred calculated above, along with the 'x' values\n",
                "\n",
                "plt.plot(df[['age']],y,'o', markersize=7,color=\"#011DAD\",label=\"Data\")\n",
                "\n",
                "plt.plot(df[['age']],logit,linewidth=2,color='black',label=\"Prediction\")\n",
                "\n",
                "\n",
                "plt.xticks(np.arange(18, 80, 4.0))\n",
                "plt.xlabel(\"Age\")\n",
                "plt.ylabel(\"Insurance claim\")\n",
                "plt.yticks((0,1), labels=('No', 'Yes'))\n",
                "plt.legend()\n",
                "plt.show()"
            ]
        },
        {
            "cell_type": "code",
            "execution_count": 0,
            "metadata": {},
            "outputs": [],
            "source": [
                ""
            ]
        }
    ]
}
