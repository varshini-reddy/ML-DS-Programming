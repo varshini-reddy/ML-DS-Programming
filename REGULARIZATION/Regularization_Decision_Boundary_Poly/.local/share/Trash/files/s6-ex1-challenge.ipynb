{
 "cells": [
  {
   "cell_type": "code",
   "execution_count": 1,
   "metadata": {
    "colab": {},
    "colab_type": "code",
    "id": "9grnGSASGOwm"
   },
   "outputs": [],
   "source": [
    "# Import required libraries\n",
    "\n",
    "%matplotlib inline\n",
    "import pandas as pd\n",
    "import numpy as np\n",
    "import matplotlib.pyplot as plt\n",
    "from sklearn.linear_model import LogisticRegression\n",
    "from sklearn.preprocessing import PolynomialFeatures\n",
    "from sklearn.model_selection import train_test_split\n",
    "from sklearn import metrics\n",
    "import scipy.optimize as opt\n",
    "from sklearn.metrics import accuracy_score\n",
    "import warnings\n",
    "warnings.filterwarnings('ignore')"
   ]
  },
  {
   "cell_type": "code",
   "execution_count": 2,
   "metadata": {
    "colab": {},
    "colab_type": "code",
    "id": "DfKkJbAXGOwq"
   },
   "outputs": [],
   "source": [
    "# Load the file \"land_type.csv\" into a dataframe\n",
    "\n",
    "df = pd.read_csv(\"land_type.csv\")\n",
    "\n",
    "# Assign the variable 'X' to the predictors & 'y' to the response \n",
    "\n",
    "X = df.drop(\"land_type\", axis=1).values\n",
    "\n",
    "\n",
    "y = df['land_type']"
   ]
  },
  {
   "cell_type": "code",
   "execution_count": 3,
   "metadata": {},
   "outputs": [],
   "source": [
    "# Split the dataset into train and validatio nsets\n",
    "\n",
    "X_train, X_val, y_train, y_val = train_test_split(X,y,train_size=0.8, random_state=22)\n",
    "\n"
   ]
  },
  {
   "cell_type": "code",
   "execution_count": 4,
   "metadata": {},
   "outputs": [
    {
     "name": "stdout",
     "output_type": "stream",
     "text": [
      "Accuracy= [0.65]\n",
      "Accuracy= [0.65, 0.75]\n",
      "Accuracy= [0.65, 0.75, 0.7]\n",
      "Accuracy= [0.65, 0.75, 0.7, 0.675]\n",
      "Accuracy= [0.65, 0.75, 0.7, 0.675, 0.625]\n",
      "Accuracy= [0.65, 0.75, 0.7, 0.675, 0.625, 0.725]\n"
     ]
    }
   ],
   "source": [
    "# Make a logistic regression model with below given C value\n",
    "\n",
    "degree = 10\n",
    "\n",
    "#Make a list of 6 C values to vary the range of regularization such that you get the best accuracy\n",
    "\n",
    "Clist = [1e-15,1e-5,1e-3,1,1e3,1e5]\n",
    "\n",
    "validation_accuracy = []\n",
    "\n",
    "for i in Clist:\n",
    "    \n",
    "    \n",
    "    # For each i in Clist, make a logistic regression model, with max_iter = 16000    \n",
    "    lr = LogisticRegression(C=i, max_iter=16000)\n",
    "\n",
    "    # Use Polynomial features to make a response variable of degree 10\n",
    "    \n",
    "    X_poly_train = PolynomialFeatures(degree).fit_transform(X_train)\n",
    "\n",
    "    X_poly_val = PolynomialFeatures(degree).fit_transform(X_val)\n",
    "    \n",
    "    # Fit the model on the training data\n",
    "    \n",
    "    lr.fit(X_poly_train, y_train)\n",
    "\n",
    "    # Predict the model on the validation data\n",
    "    y_val_pred = lr.predict(X_poly_val)\n",
    "\n",
    "    # Append the validation accuracy using the `accuracy_score` function\n",
    "    validation_accuracy.append(accuracy_score(y_val, y_val_pred))\n",
    "    \n",
    "    print(\"Accuracy=\",validation_accuracy)"
   ]
  },
  {
   "cell_type": "code",
   "execution_count": 5,
   "metadata": {},
   "outputs": [
    {
     "name": "stdout",
     "output_type": "stream",
     "text": [
      "The best C value from the list above is 1e-05\n"
     ]
    }
   ],
   "source": [
    "# Find the C value associated with the highest accuracy\n",
    "\n",
    "best_C = Clist[validation_accuracy.index(max(validation_accuracy))]\n",
    "\n",
    "print(f\"The best C value from the list above is {best_C}\")"
   ]
  },
  {
   "cell_type": "markdown",
   "metadata": {},
   "source": [
    "# Visualisation\n",
    "\n",
    "Now, to visualise the regularisation, use the helper code below to plot the decision boundaries for each clist chosen above."
   ]
  },
  {
   "cell_type": "code",
   "execution_count": 6,
   "metadata": {},
   "outputs": [],
   "source": [
    "# # The below helper function from session 5 exercise 4, 'plot_boundary' plots the boundary for a given logistic regression function\n",
    "\n",
    "# def plot_boundary(x, y, model, title, ax, plot_data=True, fill=True, color='Greens',degree=0):\n",
    "    \n",
    "#     if plot_data:\n",
    "#         # PLOT DATA\n",
    "#         ax.scatter(x[y==1,0], x[y==1,1], c='#007D66',alpha=0.7)\n",
    "#         ax.scatter(x[y==0,0], x[y==0,1], c='brown',alpha=0.7)\n",
    "    \n",
    "#     # CREATE MESH\n",
    "#     interval = np.arange(min(x.min(), y.min()),max(x.max(), y.max()),0.01)\n",
    "#     n = np.size(interval)\n",
    "#     x1, x2 = np.meshgrid(interval, interval)\n",
    "#     x1 = x1.reshape(-1,1)\n",
    "#     x2 = x2.reshape(-1,1)\n",
    "#     xx = np.concatenate((x1, x2), axis=1)\n",
    "\n",
    "#     # PREDICT ON MESH POINTS\n",
    "#     xxpoly = PolynomialFeatures(degree).fit_transform(xx)\n",
    "#     yy = model.predict(xxpoly)    \n",
    "#     yy = yy.reshape((n, n))\n",
    "\n",
    "#     # PLOT DECISION SURFACE\n",
    "#     x1 = x1.reshape(n, n)\n",
    "#     x2 = x2.reshape(n, n)\n",
    "#     if fill:\n",
    "#         ax.contourf(x1, x2, yy, alpha=0.5, cmap=color)\n",
    "#     else:\n",
    "#         ax.contour(x1, x2, yy, alpha=0.5, cmap=color)\n",
    "    \n",
    "#     # LABEL AXIS, TITLE\n",
    "#     ax.set_xlabel('Latitude')\n",
    "#     ax.set_ylabel('Longitude')\n",
    "    \n",
    "#     return ax"
   ]
  },
  {
   "cell_type": "code",
   "execution_count": 7,
   "metadata": {},
   "outputs": [],
   "source": [
    "# # The helper function below, fits a Logistic Regression model, and plots the boundary around it using the function above\n",
    "\n",
    "# def fit_and_plot_dt(x, y, c, title, ax, plot_data=True, fill=True, color='Blues',degree=0):\n",
    "\n",
    "#     lreg = LogisticRegression(C=c, max_iter=6000)\n",
    "\n",
    "#     x1 = PolynomialFeatures(degree).fit_transform(x)\n",
    "#     lreg.fit(x1, y)\n",
    "\n",
    "#     # PLOT DECISION TREE BOUNDARY\n",
    "#     ax = plot_boundary(x, y, lreg, title, ax, plot_data, fill, color,degree=degree)\n",
    "    \n",
    "#     return ax"
   ]
  },
  {
   "cell_type": "code",
   "execution_count": null,
   "metadata": {},
   "outputs": [],
   "source": [
    "#Variance comparison between simple and complex models\n",
    "\n",
    "# We will use a custom function called fit_and_plot_dt\n",
    "# If you are curious about it, look for the file `helper.py` in the root directory\n",
    "\n",
    "from helper import fit_and_plot_dt\n",
    "\n",
    "fig, ax = plt.subplots(nrows=int(len(Clist)/2), ncols=2,figsize=(12, 10))\n",
    "\n",
    "ax = ax.ravel()\n",
    "\n",
    "for i,d in enumerate(Clist):\n",
    "    ax[i] = fit_and_plot_dt(X, y, d, 'Satellite',ax[i], plot_data=True, fill=False,degree=6) \n",
    "    ax[i].set_xlim(-6, 6)\n",
    "    ax[i].set_ylim(-6, 6)\n",
    "    ax[i].set_title(f'Plot for C={d}')\n",
    "plt.tight_layout()\n",
    "plt.show() "
   ]
  },
  {
   "cell_type": "markdown",
   "metadata": {},
   "source": [
    "## Try the same for varying degrees"
   ]
  },
  {
   "cell_type": "code",
   "execution_count": 124,
   "metadata": {},
   "outputs": [],
   "source": [
    "# Make a logistic regression model with below given C value\n",
    "\n",
    "degree_range = range(1,11)\n",
    "\n",
    "degree_best_c = {}\n",
    "\n",
    "#Make a list of 6 C values to vary the range of regularization such that you get the best accuracy\n",
    "\n",
    "Clist = [1e-5,1e-4,1e-3,1e-2,0.1,1]#,1e3,1e5]\n",
    "\n",
    "\n",
    "for degree in degree_range:\n",
    "    validation_accuracy = []\n",
    "    \n",
    "    for i in Clist:\n",
    "\n",
    "        # For each i in Clist, make a logistic regression model, with max_iter = 16000    \n",
    "        lr = LogisticRegression(C=i, max_iter=16000)\n",
    "\n",
    "        # Use Polynomial features to make a response variable of degree 10\n",
    "\n",
    "        X_poly_train = PolynomialFeatures(degree).fit_transform(X_train)\n",
    "\n",
    "        X_poly_val = PolynomialFeatures(degree).fit_transform(X_val)\n",
    "\n",
    "        # Fit the model on the training data\n",
    "\n",
    "        lr.fit(X_poly_train, y_train)\n",
    "\n",
    "        # Predict the model on the validation data\n",
    "        y_val_pred = lr.predict(X_poly_val)\n",
    "\n",
    "        # Append the validation accuracy using the `accuracy_score` function\n",
    "        validation_accuracy.append(accuracy_score(y_val, y_val_pred))\n",
    "\n",
    "        #print(\"Accuracy=\",validation_accuracy)\n",
    "        best_C = Clist[validation_accuracy.index(max(validation_accuracy))]\n",
    "    degree_best_c[degree] = best_C"
   ]
  },
  {
   "cell_type": "code",
   "execution_count": 135,
   "metadata": {},
   "outputs": [
    {
     "data": {
      "image/png": "[encoded data removed]",
      "text/plain": [
       "<Figure size 432x288 with 1 Axes>"
      ]
     },
     "metadata": {
      "needs_background": "light"
     },
     "output_type": "display_data"
    }
   ],
   "source": [
    "x = list(degree_best_c.keys())\n",
    "y = list(degree_best_c.values())\n",
    "plt.plot(x,y, 'o',color = '#007D66',alpha=0.7,markersize=12)\n",
    "plt.yscale(\"log\")\n",
    "plt.xticks(degree_range)\n",
    "plt.xlabel(\"Degree\")\n",
    "plt.ylabel(\"C value\")\n",
    "plt.show()"
   ]
  },
  {
   "cell_type": "markdown",
   "metadata": {},
   "source": [
    "### Based on the plot, comment on the relationship between the Degree and C value of the model"
   ]
  },
  {
   "cell_type": "markdown",
   "metadata": {},
   "source": [
    "**Your answer here**"
   ]
  }
 ],
 "metadata": {
  "colab": {
   "name": "s5_e4.ipynb",
   "provenance": []
  },
  "kernelspec": {
   "display_name": "Python 3",
   "language": "python",
   "name": "python3"
  },
  "language_info": {
   "codemirror_mode": {
    "name": "ipython",
    "version": 3
   },
   "file_extension": ".py",
   "mimetype": "text/x-python",
   "name": "python",
   "nbconvert_exporter": "python",
   "pygments_lexer": "ipython3",
   "version": "3.8.5"
  }
 },
 "nbformat": 4,
 "nbformat_minor": 4
}
