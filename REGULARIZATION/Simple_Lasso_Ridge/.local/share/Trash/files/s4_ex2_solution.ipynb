{
 "cells": [
  {
   "cell_type": "code",
   "execution_count": 11,
   "metadata": {
    "colab": {},
    "colab_type": "code",
    "id": "lIEaUZn7N5EK"
   },
   "outputs": [],
   "source": [
    "# Import libraries\n",
    "%matplotlib inline\n",
    "import pandas as pd\n",
    "import numpy as np\n",
    "import matplotlib.pyplot as plt\n",
    "from sklearn import preprocessing\n",
    "from sklearn.linear_model import Lasso\n",
    "from sklearn.linear_model import Ridge\n",
    "from sklearn.metrics import mean_squared_error\n",
    "from sklearn.linear_model import LinearRegression\n",
    "from sklearn.model_selection import train_test_split\n",
    "from sklearn.preprocessing import PolynomialFeatures"
   ]
  },
  {
   "cell_type": "markdown",
   "metadata": {
    "colab_type": "text",
    "id": "NZCIOoOAN5EP"
   },
   "source": [
    "### Reading the dataset"
   ]
  },
  {
   "cell_type": "code",
   "execution_count": 12,
   "metadata": {
    "colab": {},
    "colab_type": "code",
    "id": "-zcfNJZWN5EP"
   },
   "outputs": [],
   "source": [
    "# Read the file \"Boston_housing.csv\" as a dataframe\n",
    "df = pd.read_csv(\"Boston_housing.csv\")"
   ]
  },
  {
   "cell_type": "markdown",
   "metadata": {},
   "source": [
    "## Predictors & Response variables\n",
    "\n",
    "Select the following columns as predictors\n",
    "- crim\n",
    "- indus\n",
    "- nox\n",
    "- rm\n",
    "- age\n",
    "- dis\n",
    "- rad\n",
    "- tax\n",
    "- ptratio\n",
    "- black\n",
    "- lstat\n",
    "\n",
    "#### Select the 'medv' column as response variable"
   ]
  },
  {
   "cell_type": "code",
   "execution_count": 18,
   "metadata": {
    "colab": {},
    "colab_type": "code",
    "id": "-zcfNJZWN5EP"
   },
   "outputs": [],
   "source": [
    "# Select a subdataframe of predictors\n",
    "X = df[['crim','indus','nox','rm','age','dis','rad','tax','ptratio','black','lstat']]\n",
    "\n",
    "# Normalize the values of the dataframe to avoid computational issues with predictor magnitudes too large or too small\n",
    "x = preprocessing.normalize(X)\n",
    "\n",
    "# Select the response variable\n",
    "y = df['medv']"
   ]
  },
  {
   "cell_type": "markdown",
   "metadata": {
    "colab_type": "text",
    "id": "NqzD0ePLN5ES"
   },
   "source": [
    "### Split the dataset into train and validation sets"
   ]
  },
  {
   "cell_type": "code",
   "execution_count": 19,
   "metadata": {
    "colab": {},
    "colab_type": "code",
    "id": "pV9-eTzxN5ET"
   },
   "outputs": [],
   "source": [
    "X_train, X_val, y_train, y_val = train_test_split(x, y, test_size=0.3, random_state=31)\n"
   ]
  },
  {
   "cell_type": "markdown",
   "metadata": {
    "colab_type": "text",
    "id": "_V3CgcWGN5EW"
   },
   "source": [
    "### Multi-Linear Regression Analysis"
   ]
  },
  {
   "cell_type": "code",
   "execution_count": 20,
   "metadata": {
    "colab": {},
    "colab_type": "code",
    "id": "tf7i8AY4N5EW"
   },
   "outputs": [],
   "source": [
    "#Fit a linear regression model\n",
    "lreg = LinearRegression()\n",
    "#Fit on the training set\n",
    "lreg.fit(X_train, y_train)\n",
    "# Predict on the validation set\n",
    "yval_pred = lreg.predict(X_val)"
   ]
  },
  {
   "cell_type": "markdown",
   "metadata": {},
   "source": [
    "### Computing the MSE for Polynomial Regression"
   ]
  },
  {
   "cell_type": "code",
   "execution_count": 21,
   "metadata": {},
   "outputs": [
    {
     "name": "stdout",
     "output_type": "stream",
     "text": [
      "Multi linear regression MSE is 20.133951375165264\n"
     ]
    }
   ],
   "source": [
    "# Use the mean_squared_error function to compute the mse & print it\n",
    "mse = mean_squared_error(y_val, yval_pred)\n",
    "print (\"Multi linear regression MSE is\", mse)"
   ]
  },
  {
   "cell_type": "markdown",
   "metadata": {},
   "source": [
    "### Obtaining the coefficients of the predictors"
   ]
  },
  {
   "cell_type": "code",
   "execution_count": 22,
   "metadata": {
    "colab": {},
    "colab_type": "code",
    "id": "_YvltbSPN5Eg"
   },
   "outputs": [],
   "source": [
    "coef = dict(zip(X.columns, np.transpose(lreg.coef_))) \n",
    "l1 = list(coef.keys())\n",
    "l2 = list(coef.values())\n"
   ]
  },
  {
   "cell_type": "markdown",
   "metadata": {},
   "source": [
    "### Plotting the graph\n",
    "This bar graph is to depict the coefficient of each predictor for the given degree"
   ]
  },
  {
   "cell_type": "code",
   "execution_count": null,
   "metadata": {},
   "outputs": [],
   "source": [
    "# Use the helper code below to visualise your coefficients\n",
    "plt.rcdefaults()\n",
    "fig, ax = plt.subplots()\n",
    "\n",
    "ax.barh(l1,l2, align='center',color=\"#336600\")\n",
    "ax.grid(linewidth=0.2)\n",
    "ax.set_xlabel(\"Coefficient\")\n",
    "ax.set_ylabel(\"Predictors\")\n",
    "ax.set_xlim(-7000,4000)\n",
    "plt.show()"
   ]
  },
  {
   "cell_type": "markdown",
   "metadata": {
    "colab_type": "text",
    "id": "tUp_wxRqN5Em"
   },
   "source": [
    "### Implementing Lasso regularization"
   ]
  },
  {
   "cell_type": "code",
   "execution_count": 20,
   "metadata": {
    "colab": {},
    "colab_type": "code",
    "id": "gb3N8dMIN5Em"
   },
   "outputs": [],
   "source": [
    "# Now, you will implement the lasso regularisation\n",
    "lasso_reg = Lasso(alpha =0.001)\n",
    "lasso_reg.fit(X_train,y_train)\n",
    "\n",
    "#Make a prediction using the above trained model\n",
    "y_pred =lasso_reg.predict(X_val)\n"
   ]
  },
  {
   "cell_type": "markdown",
   "metadata": {},
   "source": [
    "### Computing the MSE with Lasso regularization"
   ]
  },
  {
   "cell_type": "code",
   "execution_count": 21,
   "metadata": {},
   "outputs": [
    {
     "name": "stdout",
     "output_type": "stream",
     "text": [
      "Lasso MSE is 19.920431176338706\n"
     ]
    }
   ],
   "source": [
    "# Again, calculate the MSE & print it\n",
    "mse_lasso = mean_squared_error(y_pred, y_val)\n",
    "print (\"Lasso MSE is\", mse_lasso)"
   ]
  },
  {
   "cell_type": "markdown",
   "metadata": {},
   "source": [
    "### Obtaining the coefficients of the predictors"
   ]
  },
  {
   "cell_type": "code",
   "execution_count": 23,
   "metadata": {},
   "outputs": [],
   "source": [
    "# Use the helper code below to make a dictionary of the predictors along with the coefficients associated with them\n",
    "coef = dict(zip(X.columns, np.transpose(lasso_reg.coef_))) \n",
    "l1 = list(coef.keys())\n",
    "l2 = list(coef.values())"
   ]
  },
  {
   "cell_type": "markdown",
   "metadata": {},
   "source": [
    "### Plotting the graph"
   ]
  },
  {
   "cell_type": "code",
   "execution_count": 24,
   "metadata": {},
   "outputs": [
    {
     "data": {
      "image/png": "[encoded data removed]",
      "text/plain": [
       "<Figure size 640x480 with 1 Axes>"
      ]
     },
     "metadata": {},
     "output_type": "display_data"
    }
   ],
   "source": [
    "# Use the helper code below to visualise the values \n",
    "plt.rcdefaults()\n",
    "fig, ax = plt.subplots()\n",
    "\n",
    "ax.barh(l1,l2, align='center',color=\"#660066\")\n",
    "ax.grid(linewidth=0.2)\n",
    "ax.set_xlabel(\"Coefficient\")\n",
    "ax.set_ylabel(\"Predictors\")\n",
    "ax.set_xlim(-7000,4000)\n",
    "plt.show()"
   ]
  },
  {
   "cell_type": "markdown",
   "metadata": {
    "colab_type": "text",
    "id": "kX2K1WqzN5Es"
   },
   "source": [
    "### Implementing Ridge regularization"
   ]
  },
  {
   "cell_type": "code",
   "execution_count": 25,
   "metadata": {
    "colab": {},
    "colab_type": "code",
    "id": "gljUr82ON5Es"
   },
   "outputs": [],
   "source": [
    "# Now, we do the same as above, but we use L2 regularisation\n",
    "ridgeReg = Ridge(alpha=0.001)\n",
    "\n",
    "ridgeReg.fit(X_train,y_train)\n",
    "\n",
    "y_pred = ridgeReg.predict(X_val)\n"
   ]
  },
  {
   "cell_type": "markdown",
   "metadata": {},
   "source": [
    "### Computing the MSE with Ridge regularization"
   ]
  },
  {
   "cell_type": "code",
   "execution_count": 26,
   "metadata": {},
   "outputs": [
    {
     "name": "stdout",
     "output_type": "stream",
     "text": [
      "Ridge MSE is 20.09085131720043\n"
     ]
    }
   ],
   "source": [
    "# Calculate the MSE & print it\n",
    "mse_ridge = mean_squared_error(y_pred, y_val)\n",
    "print (\"Ridge MSE is\", mse_ridge)"
   ]
  },
  {
   "cell_type": "markdown",
   "metadata": {},
   "source": [
    "### Obtaining the coefficients of the predictors"
   ]
  },
  {
   "cell_type": "code",
   "execution_count": 27,
   "metadata": {},
   "outputs": [],
   "source": [
    "# Use the helper code below to make a dictionary of the predictors along with the coefficients associated with them \n",
    "coef = dict(zip(X.columns, np.transpose(ridgeReg.coef_))) \n",
    "l1 = list(coef.keys())\n",
    "l2 = list(coef.values())"
   ]
  },
  {
   "cell_type": "markdown",
   "metadata": {},
   "source": [
    "### Plotting the graph"
   ]
  },
  {
   "cell_type": "code",
   "execution_count": 28,
   "metadata": {},
   "outputs": [
    {
     "data": {
      "image/png": "[encoded data removed]",
      "text/plain": [
       "<Figure size 640x480 with 1 Axes>"
      ]
     },
     "metadata": {},
     "output_type": "display_data"
    }
   ],
   "source": [
    "# Again, use the helper code to visualise your results\n",
    "plt.rcdefaults()\n",
    "fig, ax = plt.subplots()\n",
    "\n",
    "ax.barh(l1,l2, align='center',color=\"#002b80\")\n",
    "ax.grid(linewidth=0.2)\n",
    "ax.set_xlabel(\"Coefficient\")\n",
    "ax.set_ylabel(\"Predictors\")\n",
    "ax.set_xlim(-7000,4000)\n",
    "plt.show()"
   ]
  },
  {
   "cell_type": "code",
   "execution_count": null,
   "metadata": {},
   "outputs": [],
   "source": []
  }
 ],
 "metadata": {
  "colab": {
   "name": "s4-ex2.ipynb",
   "provenance": []
  },
  "kernelspec": {
   "display_name": "Python 3",
   "language": "python",
   "name": "python3"
  },
  "language_info": {
   "codemirror_mode": {
    "name": "ipython",
    "version": 3
   },
   "file_extension": ".py",
   "mimetype": "text/x-python",
   "name": "python",
   "nbconvert_exporter": "python",
   "pygments_lexer": "ipython3",
   "version": "3.8.5"
  }
 },
 "nbformat": 4,
 "nbformat_minor": 4
}
