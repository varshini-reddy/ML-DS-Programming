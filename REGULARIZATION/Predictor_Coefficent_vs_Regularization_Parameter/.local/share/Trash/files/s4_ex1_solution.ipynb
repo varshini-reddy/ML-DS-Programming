{
 "cells": [
  {
   "cell_type": "code",
   "execution_count": 9,
   "metadata": {},
   "outputs": [],
   "source": [
    "# Import libraries\n",
    "%matplotlib inline\n",
    "import pandas as pd\n",
    "import numpy as np\n",
    "import matplotlib.pyplot as plt\n",
    "from sklearn import preprocessing\n",
    "from sklearn.linear_model import Lasso\n",
    "from sklearn.linear_model import Ridge\n",
    "from sklearn.metrics import mean_squared_error\n",
    "from sklearn.linear_model import LinearRegression\n",
    "from sklearn.model_selection import train_test_split\n",
    "from sklearn.preprocessing import PolynomialFeatures"
   ]
  },
  {
   "cell_type": "markdown",
   "metadata": {},
   "source": [
    "### Reading the dataset"
   ]
  },
  {
   "cell_type": "code",
   "execution_count": 10,
   "metadata": {},
   "outputs": [],
   "source": [
    "# Read the file \"Boston_housing.csv\" as a dataframe\n",
    "\n",
    "df = pd.read_csv(\"Boston_housing.csv\")"
   ]
  },
  {
   "cell_type": "markdown",
   "metadata": {},
   "source": [
    "## Predictors & Response variables\n",
    "\n",
    "Select the following columns as predictors\n",
    "- crim\n",
    "- indus\n",
    "- nox\n",
    "- rm\n",
    "- age\n",
    "- dis\n",
    "- rad\n",
    "- tax\n",
    "- ptratio\n",
    "- black\n",
    "- lstat\n",
    "\n",
    "#### Select the 'medv' column as response variable"
   ]
  },
  {
   "cell_type": "code",
   "execution_count": 11,
   "metadata": {},
   "outputs": [],
   "source": [
    "# Select a subdataframe of predictors\n",
    "\n",
    "X = df[['crim','indus','nox','rm','age','dis','rad','tax','ptratio','black','lstat']]#df[df.columns.to_list()[:-1]]\n",
    "\n",
    "# Normalize the values of the dataframe \n",
    "\n",
    "X_norm = preprocessing.normalize(X)\n",
    "\n",
    "# Select the response variable\n",
    "\n",
    "y = df['medv']"
   ]
  },
  {
   "cell_type": "markdown",
   "metadata": {},
   "source": [
    "### Split the dataset into train and validation sets\n",
    "\n",
    "Keep the test size as 30% of the dataset, and use ```random_state```=31"
   ]
  },
  {
   "cell_type": "code",
   "execution_count": 12,
   "metadata": {},
   "outputs": [],
   "source": [
    "# Split the data into train and validation sets\n",
    "X_train, X_val, y_train, y_val = train_test_split(X_norm,y,test_size=0.3,random_state=31)\n"
   ]
  },
  {
   "cell_type": "markdown",
   "metadata": {},
   "source": [
    "### Multi-linear Regression Analysis"
   ]
  },
  {
   "cell_type": "code",
   "execution_count": 13,
   "metadata": {},
   "outputs": [],
   "source": [
    "#Fit a linear regression model\n",
    "\n",
    "lreg = LinearRegression()\n",
    "lreg.fit(X_train, y_train)\n",
    "\n",
    "# Predict on the validation set\n",
    "\n",
    "y_val_pred = lreg.predict(X_val)"
   ]
  },
  {
   "cell_type": "markdown",
   "metadata": {},
   "source": [
    "### Computing the MSE for Multi-Linear Regression"
   ]
  },
  {
   "cell_type": "code",
   "execution_count": 14,
   "metadata": {},
   "outputs": [
    {
     "name": "stdout",
     "output_type": "stream",
     "text": [
      "Multi-linear regression MSE is 20.133951375165264\n"
     ]
    }
   ],
   "source": [
    "# Use the mean_squared_error function to compute the mse\n",
    "\n",
    "mse = mean_squared_error(y_val,y_val_pred)\n",
    "\n",
    "# print the MSE value\n",
    "\n",
    "print (\"Multi-linear regression MSE is\", mse)"
   ]
  },
  {
   "cell_type": "markdown",
   "metadata": {},
   "source": [
    "### Obtaining the coefficients of the predictors"
   ]
  },
  {
   "cell_type": "code",
   "execution_count": 15,
   "metadata": {},
   "outputs": [],
   "source": [
    "#make a dictionary of the coefficients along with the predictors as keys\n",
    "\n",
    "lreg_coef = dict(zip(X.columns, np.transpose(lreg.coef_)))\n",
    "lreg_x = list(lreg_coef.keys())\n",
    "lreg_y = list(lreg_coef.values())"
   ]
  },
  {
   "cell_type": "markdown",
   "metadata": {},
   "source": [
    "### Implementing Lasso regularization"
   ]
  },
  {
   "cell_type": "code",
   "execution_count": 16,
   "metadata": {},
   "outputs": [],
   "source": [
    "# Now, you will implement the lasso regularisation\n",
    "\n",
    "# Use alpha = 0.008\n",
    "\n",
    "lasso_reg = Lasso(alpha=0.008)\n",
    "lasso_reg.fit(X_train,y_train)\n",
    "\n",
    "#Make a prediction using the above trained model\n",
    "\n",
    "y_val_pred =lasso_reg.predict(X_val)\n"
   ]
  },
  {
   "cell_type": "markdown",
   "metadata": {},
   "source": [
    "### Computing the MSE with Lasso regularization"
   ]
  },
  {
   "cell_type": "code",
   "execution_count": 17,
   "metadata": {},
   "outputs": [
    {
     "name": "stdout",
     "output_type": "stream",
     "text": [
      "Lasso MSE is 31.676774400084458\n"
     ]
    }
   ],
   "source": [
    "# Again, calculate the MSE & print it\n",
    "\n",
    "mse_lasso = mean_squared_error(y_val,y_val_pred)\n",
    "\n",
    "print (\"Lasso MSE is\", mse_lasso)"
   ]
  },
  {
   "cell_type": "markdown",
   "metadata": {},
   "source": [
    "### Obtaining the coefficients of the predictors"
   ]
  },
  {
   "cell_type": "code",
   "execution_count": 18,
   "metadata": {},
   "outputs": [],
   "source": [
    "# Use the helper code below to make a dictionary of the predictors along with the coefficients associated with them\n",
    "\n",
    "lasso_coef = dict(zip(X.columns, np.transpose(lasso_reg.coef_))) \n",
    "\n",
    "lasso_x = list(lasso_coef.keys())\n",
    "lasso_y = list(lasso_coef.values())"
   ]
  },
  {
   "cell_type": "markdown",
   "metadata": {},
   "source": [
    "### Implementing Ridge regularization"
   ]
  },
  {
   "cell_type": "code",
   "execution_count": 19,
   "metadata": {},
   "outputs": [],
   "source": [
    "# Now, we do the same as above, but we use L2 regularisation\n",
    "\n",
    "# Again, use alpha=0.008\n",
    "\n",
    "ridgeReg = Ridge(alpha=0.008)\n",
    "\n",
    "ridgeReg.fit(X_train,y_train)\n",
    "\n",
    "y_val_pred = ridgeReg.predict(X_val)\n"
   ]
  },
  {
   "cell_type": "markdown",
   "metadata": {},
   "source": [
    "### Computing the MSE with Ridge regularization"
   ]
  },
  {
   "cell_type": "code",
   "execution_count": 20,
   "metadata": {},
   "outputs": [
    {
     "name": "stdout",
     "output_type": "stream",
     "text": [
      "Ridge MSE is 28.05365901018082\n"
     ]
    }
   ],
   "source": [
    "### edTest(test_mse) ###\n",
    "\n",
    "# Calculate the MSE & print it\n",
    "\n",
    "mse_ridge = mean_squared_error(y_val,y_val_pred)\n",
    "print (\"Ridge MSE is\", mse_ridge)"
   ]
  },
  {
   "cell_type": "markdown",
   "metadata": {},
   "source": [
    "### Obtaining the coefficients of the predictors"
   ]
  },
  {
   "cell_type": "code",
   "execution_count": 21,
   "metadata": {},
   "outputs": [],
   "source": [
    "# Use the helper code below to make a dictionary of the predictors along with the coefficients associated with them \n",
    "\n",
    "ridge_coef = dict(zip(X.columns, np.transpose(ridgeReg.coef_))) \n",
    "ridge_x = list(ridge_coef.keys())\n",
    "ridge_y = list(ridge_coef.values())"
   ]
  },
  {
   "cell_type": "markdown",
   "metadata": {},
   "source": [
    "### Plotting the graph"
   ]
  },
  {
   "cell_type": "code",
   "execution_count": 22,
   "metadata": {},
   "outputs": [
    {
     "data": {
      "image/png": "[encoded data removed]",
      "text/plain": [
       "<Figure size 640x480 with 1 Axes>"
      ]
     },
     "metadata": {},
     "output_type": "display_data"
    }
   ],
   "source": [
    "# Use the code below to visualise your results\n",
    "\n",
    "plt.rcdefaults()\n",
    "#fig, ax = plt.subplots(1,1)\n",
    "\n",
    "plt.barh(lreg_x,lreg_y,1.0, align='edge',color=\"#D3B4B4\", label=\"Linear Regression\")\n",
    "plt.barh(lasso_x,lasso_y,0.75 ,align='edge',color=\"#81BDB2\",label = \"Lasso regularisation\")\n",
    "plt.barh(ridge_x,ridge_y,0.25 ,align='edge',color=\"#7E7EC0\", label=\"Ridge regularisation\")\n",
    "\n",
    "\n",
    "\n",
    "# plt.barh(lreg_x,lreg_y, align='center',color=\"#D3B4B4\", label=\"Linear Regression\")\n",
    "# plt.barh(lasso_x,lasso_y, align='center',color=\"#007D66\", alpha=0.5,label = \"Lasso regularisation\")\n",
    "# plt.barh(ridge_x,ridge_y, align='center',color=\"darkblue\",alpha=0.5, label=\"Ridge regularisation\")\n",
    "plt.grid(linewidth=0.2)\n",
    "plt.xlabel(\"Coefficient\")\n",
    "plt.ylabel(\"Predictors\")\n",
    "plt.legend(loc='best')\n",
    "#ax.set_xlim(-7000,4000)\n",
    "#ax.autoscale(tight=True)\n",
    "plt.show()"
   ]
  },
  {
   "cell_type": "markdown",
   "metadata": {},
   "source": [
    "### Compare the results of linear regression with that of lasso and ridge regularization."
   ]
  },
  {
   "cell_type": "markdown",
   "metadata": {},
   "source": [
    "Your answer here"
   ]
  },
  {
   "cell_type": "markdown",
   "metadata": {},
   "source": [
    "### After marking, change the alpha values to 1000. What happens to the coefficients when alpha increases?"
   ]
  },
  {
   "cell_type": "markdown",
   "metadata": {},
   "source": [
    "Your answer here"
   ]
  }
 ],
 "metadata": {
  "kernelspec": {
   "display_name": "Python 3",
   "language": "python",
   "name": "python3"
  },
  "language_info": {
   "codemirror_mode": {
    "name": "ipython",
    "version": 3
   },
   "file_extension": ".py",
   "mimetype": "text/x-python",
   "name": "python",
   "nbconvert_exporter": "python",
   "pygments_lexer": "ipython3",
   "version": "3.8.5"
  }
 },
 "nbformat": 4,
 "nbformat_minor": 4
}
