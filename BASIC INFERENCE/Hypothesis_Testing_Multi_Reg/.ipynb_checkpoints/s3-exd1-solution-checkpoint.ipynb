{
 "cells": [
  {
   "cell_type": "code",
   "execution_count": 8,
   "metadata": {},
   "outputs": [],
   "source": [
    "# Import libraries\n",
    "%matplotlib inline\n",
    "import pandas as pd\n",
    "import numpy as np\n",
    "import matplotlib.pyplot as plt\n",
    "from sklearn import preprocessing\n",
    "from sklearn.linear_model import Lasso\n",
    "from sklearn.linear_model import Ridge\n",
    "from sklearn.metrics import mean_squared_error\n",
    "from sklearn.linear_model import LinearRegression\n",
    "from sklearn.model_selection import train_test_split\n",
    "from sklearn.preprocessing import PolynomialFeatures\n",
    "from scipy import stats"
   ]
  },
  {
   "cell_type": "code",
   "execution_count": 9,
   "metadata": {},
   "outputs": [],
   "source": [
    "# Read the file \"Advertising.csv\" as a dataframe\n",
    "\n",
    "df = pd.read_csv(\"Advertising.csv\",index_col=0)"
   ]
  },
  {
   "cell_type": "code",
   "execution_count": 10,
   "metadata": {
    "colab": {},
    "colab_type": "code",
    "id": "-zcfNJZWN5EP"
   },
   "outputs": [],
   "source": [
    "# Select a subdataframe of predictors\n",
    "\n",
    "X = df.drop(['sales'],axis=1)\n",
    "\n",
    "# Select the response variable\n",
    "\n",
    "y = df['sales']"
   ]
  },
  {
   "cell_type": "code",
   "execution_count": 11,
   "metadata": {},
   "outputs": [
    {
     "data": {
      "text/plain": [
       "LinearRegression(copy_X=True, fit_intercept=True, n_jobs=None, normalize=True)"
      ]
     },
     "execution_count": 11,
     "metadata": {},
     "output_type": "execute_result"
    }
   ],
   "source": [
    "#Fit a linear regression model, make sure to set normalize=True\n",
    "\n",
    "lreg = LinearRegression(normalize=True)\n",
    "\n",
    "lreg.fit(X, y)"
   ]
  },
  {
   "cell_type": "code",
   "execution_count": 12,
   "metadata": {},
   "outputs": [],
   "source": [
    "coef_dict = dict(zip(df.columns[:-1], np.transpose(lreg.coef_)))\n",
    "predictors,coefficients = list(zip(*sorted(coef_dict.items(),key=lambda x: x[1])))"
   ]
  },
  {
   "cell_type": "code",
   "execution_count": 13,
   "metadata": {},
   "outputs": [
    {
     "data": {
      "image/png": "[encoded data removed]",
      "text/plain": [
       "<Figure size 432x288 with 1 Axes>"
      ]
     },
     "metadata": {
      "needs_background": "light"
     },
     "output_type": "display_data"
    }
   ],
   "source": [
    "# Use the helper code below to visualise your coefficients\n",
    "\n",
    "fig, ax = plt.subplots()\n",
    "ax.barh(predictors,coefficients, align='center',color=\"#336600\",alpha=0.7)\n",
    "ax.grid(linewidth=0.2)\n",
    "ax.set_xlabel(\"Coefficient\")\n",
    "ax.set_ylabel(\"Predictors\")\n",
    "plt.show()"
   ]
  },
  {
   "cell_type": "code",
   "execution_count": 14,
   "metadata": {},
   "outputs": [],
   "source": [
    "# Helper function\n",
    "# t statistic calculator\n",
    "def get_t(arr):\n",
    "    means = np.abs(arr.mean(axis=0))\n",
    "    stds = arr.std(axis=0)\n",
    "    return np.divide(means,stds)#,where=stds!=0)"
   ]
  },
  {
   "cell_type": "code",
   "execution_count": 15,
   "metadata": {},
   "outputs": [],
   "source": [
    "# We now bootstrap for numboot times to find the distribution for the coefficients\n",
    "coef_dist = []\n",
    "numboot = 1000\n",
    "for i in range(numboot):\n",
    "    df_new = df.sample(frac=1,replace=True)\n",
    "    X = df_new.drop('sales',axis=1)\n",
    "    y = df_new['sales']\n",
    "    # Dont forget to normalize\n",
    "\n",
    "    lreg = LinearRegression(normalize=True)\n",
    "    lreg.fit(X, y)\n",
    "    coef_dist.append(lreg.coef_)\n",
    "\n",
    "coef_dist = np.array(coef_dist)"
   ]
  },
  {
   "cell_type": "code",
   "execution_count": 16,
   "metadata": {},
   "outputs": [],
   "source": [
    "# We use the helper function from above to find the T-test values\n",
    "\n",
    "tt = get_t(coef_dist)\n",
    "n = df.shape[0]"
   ]
  },
  {
   "cell_type": "code",
   "execution_count": 17,
   "metadata": {},
   "outputs": [],
   "source": [
    "tt_dict = dict(zip(df.columns[:-1], tt))\n",
    "predictors, tvalues = list(zip(*sorted(tt_dict.items(),key=lambda x:x[1])))"
   ]
  },
  {
   "cell_type": "code",
   "execution_count": 18,
   "metadata": {},
   "outputs": [
    {
     "data": {
      "image/png": "[encoded data removed]",
      "text/plain": [
       "<Figure size 432x288 with 1 Axes>"
      ]
     },
     "metadata": {
      "needs_background": "light"
     },
     "output_type": "display_data"
    }
   ],
   "source": [
    "# Use the helper code below to visualise your coefficients\n",
    "fig, ax = plt.subplots()\n",
    "ax.barh(predictors,tvalues, align='center',color=\"#336600\",alpha=0.7)\n",
    "ax.grid(linewidth=0.2)\n",
    "ax.set_xlabel(\"T-test values\")\n",
    "ax.set_ylabel(\"Predictors\")\n",
    "plt.show()"
   ]
  },
  {
   "cell_type": "code",
   "execution_count": 19,
   "metadata": {},
   "outputs": [],
   "source": [
    "# We now go from t-test values to p values using scipy.stats T-distribution function\n",
    "\n",
    "pval = stats.t.sf(tt, n-1)*2\n",
    "\n",
    "# here we use sf i.e 'Survival function' which is 1 - CDF of the t distribution.\n",
    "# We also multiply by two because its a two tailed test.\n",
    "# Please refer to lecture notes for more information\n",
    "\n",
    "# Since p values are in reversed order, we find the 'confidence' which is 1-p\n",
    "\n",
    "conf = 1-pval"
   ]
  },
  {
   "cell_type": "code",
   "execution_count": 20,
   "metadata": {},
   "outputs": [],
   "source": [
    "conf_dict = dict(zip(df.columns[:-1], conf))\n",
    "predictors, confs = list(zip(*sorted(conf_dict.items(),key=lambda x:x[1])))"
   ]
  },
  {
   "cell_type": "code",
   "execution_count": 21,
   "metadata": {},
   "outputs": [
    {
     "data": {
      "image/png": "[encoded data removed]",
      "text/plain": [
       "<Figure size 432x288 with 1 Axes>"
      ]
     },
     "metadata": {
      "needs_background": "light"
     },
     "output_type": "display_data"
    }
   ],
   "source": [
    "# Use the helper code below to visualise your coefficients\n",
    "fig, ax = plt.subplots()\n",
    "\n",
    "ax.barh(predictors,confs, align='center',color=\"#336600\",alpha=0.7)\n",
    "ax.grid(linewidth=0.2)\n",
    "ax.axvline(x=0.95,linewidth=3,linestyle='--', color = 'black',alpha=0.8,label = '0.95')\n",
    "ax.set_xlabel(\"$1-p$ value\")\n",
    "ax.set_ylabel(\"Predictors\")\n",
    "ax.legend()\n",
    "plt.show()"
   ]
  },
  {
   "cell_type": "code",
   "execution_count": null,
   "metadata": {},
   "outputs": [],
   "source": []
  }
 ],
 "metadata": {
  "colab": {
   "name": "s4-ex2.ipynb",
   "provenance": []
  },
  "kernelspec": {
   "display_name": "Python 3",
   "language": "python",
   "name": "python3"
  },
  "language_info": {
   "codemirror_mode": {
    "name": "ipython",
    "version": 3
   },
   "file_extension": ".py",
   "mimetype": "text/x-python",
   "name": "python",
   "nbconvert_exporter": "python",
   "pygments_lexer": "ipython3",
   "version": "3.7.6"
  }
 },
 "nbformat": 4,
 "nbformat_minor": 4
}
