{
    "metadata": {
        "kernelspec": {
            "name": "python3",
            "display_name": "Python 3",
            "language": "python"
        }
    },
    "nbformat": 4,
    "nbformat_minor": 4,
    "cells": [
        {
            "cell_type": "code",
            "execution_count": 1,
            "metadata": {},
            "outputs": [],
            "source": [
                "# import libraries\n",
                "import pandas as pd\n",
                "import numpy as np\n",
                "import matplotlib.pyplot as plt\n",
                "from randomuniverse import RandomUniverse\n",
                "%matplotlib inline"
            ]
        },
        {
            "attachments": {},
            "cell_type": "markdown",
            "metadata": {},
            "source": [
                "### Reading the standard Advertising dataset"
            ]
        },
        {
            "cell_type": "code",
            "execution_count": 2,
            "metadata": {},
            "outputs": [],
            "source": [
                "# Read the file \"Advertising_csv\"\n",
                "df = pd.read_csv('Advertising_adj.csv')"
            ]
        },
        {
            "cell_type": "code",
            "execution_count": 3,
            "metadata": {},
            "outputs": [
                {
                    "data": {
                        "text/html": [
                            "\u003cdiv\u003e\n",
                            "\u003cstyle scoped\u003e\n",
                            "    .dataframe tbody tr th:only-of-type {\n",
                            "        vertical-align: middle;\n",
                            "    }\n",
                            "\n",
                            "    .dataframe tbody tr th {\n",
                            "        vertical-align: top;\n",
                            "    }\n",
                            "\n",
                            "    .dataframe thead th {\n",
                            "        text-align: right;\n",
                            "    }\n",
                            "\u003c/style\u003e\n",
                            "\u003ctable border=\"1\" class=\"dataframe\"\u003e\n",
                            "  \u003cthead\u003e\n",
                            "    \u003ctr style=\"text-align: right;\"\u003e\n",
                            "      \u003cth\u003e\u003c/th\u003e\n",
                            "      \u003cth\u003etv\u003c/th\u003e\n",
                            "      \u003cth\u003esales\u003c/th\u003e\n",
                            "    \u003c/tr\u003e\n",
                            "  \u003c/thead\u003e\n",
                            "  \u003ctbody\u003e\n",
                            "    \u003ctr\u003e\n",
                            "      \u003cth\u003e0\u003c/th\u003e\n",
                            "      \u003ctd\u003e230.1\u003c/td\u003e\n",
                            "      \u003ctd\u003e465.26\u003c/td\u003e\n",
                            "    \u003c/tr\u003e\n",
                            "    \u003ctr\u003e\n",
                            "      \u003cth\u003e1\u003c/th\u003e\n",
                            "      \u003ctd\u003e44.5\u003c/td\u003e\n",
                            "      \u003ctd\u003e218.95\u003c/td\u003e\n",
                            "    \u003c/tr\u003e\n",
                            "    \u003ctr\u003e\n",
                            "      \u003cth\u003e2\u003c/th\u003e\n",
                            "      \u003ctd\u003e17.2\u003c/td\u003e\n",
                            "      \u003ctd\u003e195.79\u003c/td\u003e\n",
                            "    \u003c/tr\u003e\n",
                            "    \u003ctr\u003e\n",
                            "      \u003cth\u003e3\u003c/th\u003e\n",
                            "      \u003ctd\u003e151.5\u003c/td\u003e\n",
                            "      \u003ctd\u003e389.47\u003c/td\u003e\n",
                            "    \u003c/tr\u003e\n",
                            "    \u003ctr\u003e\n",
                            "      \u003cth\u003e4\u003c/th\u003e\n",
                            "      \u003ctd\u003e180.8\u003c/td\u003e\n",
                            "      \u003ctd\u003e271.58\u003c/td\u003e\n",
                            "    \u003c/tr\u003e\n",
                            "  \u003c/tbody\u003e\n",
                            "\u003c/table\u003e\n",
                            "\u003c/div\u003e"
                        ],
                        "text/plain": [
                            "      tv   sales\n",
                            "0  230.1  465.26\n",
                            "1   44.5  218.95\n",
                            "2   17.2  195.79\n",
                            "3  151.5  389.47\n",
                            "4  180.8  271.58"
                        ]
                    },
                    "execution_count": 3,
                    "metadata": {},
                    "output_type": "execute_result"
                }
            ],
            "source": [
                "# Take a quick look at the data\n",
                "df.head()"
            ]
        },
        {
            "cell_type": "code",
            "execution_count": 4,
            "metadata": {},
            "outputs": [],
            "source": [
                "# Define a bootstrap function, which inputs a dataframe \u0026 outputs a bootstrapped dataframe\n",
                "def bootstrap(df):\n",
                "    selectionIndex = np.random.randint(len(df), size = len(df))\n",
                "    new_df = df.iloc[selectionIndex]\n",
                "    return new_df\n",
                ""
            ]
        },
        {
            "cell_type": "code",
            "execution_count": 5,
            "metadata": {},
            "outputs": [],
            "source": [
                "# Create two empty lists to store beta values\n",
                "beta0_list, beta1_list = [],[]\n",
                "\n",
                "\n",
                "# For each instance of the for loop, call your bootstrap function, calculate the beta values\n",
                "# Store the beta values in the appropriate list\n",
                "\n",
                "#Choose the number of \"parallel\" Universes to generate the new dataset\n",
                "number_of_bootstraps = 1000\n",
                "\n",
                "for i in range(number_of_bootstraps):\n",
                "    df_new = bootstrap(df)\n",
                "\n",
                "#Find the mean of the x values\n",
                "    xmean = df_new.tv.mean()\n",
                "\n",
                "#Find the mean of the y values\n",
                "    ymean = df_new.sales.mean()\n",
                "\n",
                "#'X' is the predictor variable given by df_new.tv values \n",
                "#'y' is the reponse variable given by df_new.sales values\n",
                "    X = df_new.tv.values\n",
                "    y = df_new.sales.values\n",
                "    \n",
                "# Using equations given and discussed in lecture compute the beta0 and beta1 values\n",
                "    beta1 = (((df_new.tv - xmean)*(df_new.sales - ymean)).sum())/(((df_new.tv - xmean)**2).sum())\n",
                "    beta0 = ymean - beta1*xmean\n",
                "\n",
                "# Append the calculated values of beta1 and beta0\n",
                "    beta0_list.append(beta0)\n",
                "    beta1_list.append(beta1)"
            ]
        },
        {
            "cell_type": "code",
            "execution_count": 6,
            "metadata": {},
            "outputs": [],
            "source": [
                "### edTest(test_beta) ###\n",
                "\n",
                "#Compute the mean of the beta0 and beta1 lists\n",
                "beta0_mean = np.mean(beta0_list)\n",
                "beta1_mean = np.mean(beta1_list)"
            ]
        },
        {
            "cell_type": "code",
            "execution_count": 7,
            "metadata": {},
            "outputs": [
                {
                    "data": {
                        "image/png": "[encoded data removed]",
                        "text/plain": [
                            "\u003cFigure size 1296x576 with 2 Axes\u003e"
                        ]
                    },
                    "metadata": {
                        "needs_background": "light"
                    },
                    "output_type": "display_data"
                }
            ],
            "source": [
                "# plot histogram of beta0 and beta1\n",
                "fig, ax = plt.subplots(1,2, figsize=(18,8))\n",
                "ax[0].hist(beta0_list)\n",
                "ax[1].hist(beta1_list)\n",
                "ax[0].set_xlabel(\"Beta 0\")\n",
                "ax[1].set_xlabel(\"Beta 1\")\n",
                "ax[0].set_ylabel('Frequency');"
            ]
        },
        {
            "attachments": {},
            "cell_type": "markdown",
            "metadata": {},
            "source": [
                "### Compare the plots with the results from the RandomUniverse() function"
            ]
        },
        {
            "cell_type": "code",
            "execution_count": 8,
            "metadata": {},
            "outputs": [],
            "source": [
                "# The below helper code will help you visualise the similarity between\n",
                "# the bootstrap function you wrote \u0026 the RandomUniverse() function from last exercise\n",
                "beta0_randUni, beta1_randUni = [],[]\n",
                "\n",
                "parallelUniverses = 1000\n",
                "\n",
                "for i in range(parallelUniverses):\n",
                "    df_new = RandomUniverse(df)\n",
                "    \n",
                "    xmean = df_new.tv.mean()\n",
                "    ymean = df_new.sales.mean()\n",
                "\n",
                "# Using Linear Algebra result as discussed in lecture\n",
                "    beta1 = (((df_new.tv - xmean)*(df_new.sales - ymean)).sum())/(((df_new.tv - xmean)**2).sum())\n",
                "    beta0 = ymean - beta1*xmean\n",
                "\n",
                "    beta0_randUni.append(beta0)\n",
                "    beta1_randUni.append(beta1)"
            ]
        },
        {
            "cell_type": "code",
            "execution_count": 9,
            "metadata": {},
            "outputs": [],
            "source": [
                "# Use this helper code to plot the bootstrapped beta values \u0026 the ones from random universe\n",
                "def plotmulti(list1, list2):\n",
                "    fig, axes = plt.subplots(1,2, figsize = (10,4), sharey = 'row')\n",
                "    axes[0].hist(list1);\n",
                "    axes[0].set_xlabel('Beta Distribution')\n",
                "    axes[0].set_ylabel('Frequency')\n",
                "    axes[0].set_title('Bootstrap')\n",
                "    axes[1].hist(list2);\n",
                "    axes[1].set_xlabel('Beta Distribution')\n",
                "    axes[1].set_title('Random Universe')"
            ]
        },
        {
            "cell_type": "code",
            "execution_count": 10,
            "metadata": {},
            "outputs": [
                {
                    "data": {
                        "image/png": "[encoded data removed]",
                        "text/plain": [
                            "\u003cFigure size 720x288 with 2 Axes\u003e"
                        ]
                    },
                    "metadata": {
                        "needs_background": "light"
                    },
                    "output_type": "display_data"
                }
            ],
            "source": [
                "# Just use the 'plotmulti' function above to compare the two histograms for beta0\n",
                "plotmulti(beta0_list, beta0_randUni)"
            ]
        },
        {
            "cell_type": "code",
            "execution_count": 11,
            "metadata": {},
            "outputs": [
                {
                    "data": {
                        "image/png": "[encoded data removed]",
                        "text/plain": [
                            "\u003cFigure size 720x288 with 2 Axes\u003e"
                        ]
                    },
                    "metadata": {
                        "needs_background": "light"
                    },
                    "output_type": "display_data"
                }
            ],
            "source": [
                "#Now compare for beta1\n",
                "plotmulti(beta1_list, beta1_randUni)"
            ]
        },
        {
            "cell_type": "code",
            "execution_count": 0,
            "metadata": {},
            "outputs": [],
            "source": [
                ""
            ]
        }
    ]
}
