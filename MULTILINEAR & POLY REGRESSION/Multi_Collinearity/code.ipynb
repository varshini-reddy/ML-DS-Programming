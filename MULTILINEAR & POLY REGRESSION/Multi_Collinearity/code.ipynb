{
 "cells": [
  {
   "cell_type": "code",
   "execution_count": null,
   "metadata": {},
   "outputs": [],
   "source": [
    "# import libraries\n",
    "import pandas as pd\n",
    "import numpy as np\n",
    "import seaborn as sns \n",
    "import matplotlib.pyplot as plt\n",
    "from sklearn.linear_model import LinearRegression\n",
    "from pprint import pprint\n",
    "%matplotlib inline"
   ]
  },
  {
   "cell_type": "code",
   "execution_count": null,
   "metadata": {},
   "outputs": [],
   "source": [
    "# Read the file named \"colinearity.csv\"\n",
    "\n",
    "df = pd.read_csv(___)"
   ]
  },
  {
   "cell_type": "code",
   "execution_count": null,
   "metadata": {},
   "outputs": [],
   "source": [
    "#Take a quick look at the dataset\n",
    "\n",
    "df.head()"
   ]
  },
  {
   "cell_type": "markdown",
   "metadata": {},
   "source": [
    "#### Creation of Linear Regression Objects"
   ]
  },
  {
   "cell_type": "code",
   "execution_count": null,
   "metadata": {},
   "outputs": [],
   "source": [
    "# Choose all the predictors as the variable 'X' (note capitalization of X for multiple features)\n",
    "\n",
    "X = df.drop([___],axis=1)\n",
    "\n",
    "# Choose the response variable 'y' \n",
    "\n",
    "y = df.___"
   ]
  },
  {
   "cell_type": "code",
   "execution_count": null,
   "metadata": {},
   "outputs": [],
   "source": [
    "### edTest(test_coeff) ###\n",
    "\n",
    "# Here we create a dictionary that will store the Beta values of each linear regression model\n",
    "linear_coef = []\n",
    "\n",
    "for i in X:\n",
    "    \n",
    "    x = df[[___]]\n",
    "\n",
    "    #Create a linear regression object\n",
    "    linreg = ____\n",
    "\n",
    "    #Fit it with training values. \n",
    "    #Remember to choose only one column at a time as the predictor variable\n",
    "    linreg.fit(___,___)\n",
    "    \n",
    "    # Add the coefficient value of the model to the list\n",
    "    linear_coef.append(linreg.coef_)\n"
   ]
  },
  {
   "cell_type": "markdown",
   "metadata": {},
   "source": [
    "### Multi-Linear Regression using all variables"
   ]
  },
  {
   "cell_type": "code",
   "execution_count": null,
   "metadata": {},
   "outputs": [],
   "source": [
    "# Here you must do a multi-linear regression with all predictors\n",
    "\n",
    "# use sklearn library to define a new model 'multi_linear'\n",
    "multi_linear = ____\n",
    "\n",
    "# Fit the multi-linear regression on all features and the response\n",
    "\n",
    "multi_linear.fit(___,___)\n",
    "\n",
    "# append the coefficients (plural) of the model to a variable multi_coef\n",
    "\n",
    "multi_coef = multi_linear.coef_"
   ]
  },
  {
   "cell_type": "markdown",
   "metadata": {},
   "source": [
    "#### Printing the individual $\\beta$ values"
   ]
  },
  {
   "cell_type": "code",
   "execution_count": null,
   "metadata": {},
   "outputs": [],
   "source": [
    "# Run this command to see the beta values of the linear regression models\n",
    "\n",
    "print('By simple(one variable) linear regression for each variable:', sep = '\\n')\n",
    "\n",
    "for i in range(4):\n",
    "    \n",
    "    pprint(f'Value of beta{i+1} = {linear_coef[i][0]:.2f}')"
   ]
  },
  {
   "cell_type": "code",
   "execution_count": null,
   "metadata": {},
   "outputs": [],
   "source": [
    "### edTest(test_multi_coeff) ###\n",
    "\n",
    "#Now let's compare with the values from the multi-linear regression\n",
    "print('By multi-Linear regression on all variables')\n",
    "for i in range(4):\n",
    "    pprint(f'Value of beta{i+1} = {round(multi_coef[i],2)}')"
   ]
  },
  {
   "cell_type": "markdown",
   "metadata": {},
   "source": [
    "### Why do you think the $\\beta$ values are different in the two cases?"
   ]
  },
  {
   "cell_type": "code",
   "execution_count": null,
   "metadata": {},
   "outputs": [],
   "source": [
    "corrMatrix = df[['x1','x2','x3','x4']].corr() \n",
    "sns.heatmap(corrMatrix, annot=True) \n",
    "plt.show()"
   ]
  }
 ],
 "metadata": {
  "kernelspec": {
   "display_name": "Python 3",
   "language": "python",
   "name": "python3"
  },
  "language_info": {
   "codemirror_mode": {
    "name": "ipython",
    "version": 3
   },
   "file_extension": ".py",
   "mimetype": "text/x-python",
   "name": "python",
   "nbconvert_exporter": "python",
   "pygments_lexer": "ipython3",
   "version": "3.8.5"
  }
 },
 "nbformat": 4,
 "nbformat_minor": 4
}
