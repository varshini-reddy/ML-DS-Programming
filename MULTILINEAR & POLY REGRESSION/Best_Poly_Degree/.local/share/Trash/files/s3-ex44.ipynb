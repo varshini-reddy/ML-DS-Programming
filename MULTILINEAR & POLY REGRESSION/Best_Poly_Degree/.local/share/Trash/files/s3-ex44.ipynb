{
 "cells": [
  {
   "cell_type": "code",
   "execution_count": 9,
   "metadata": {},
   "outputs": [],
   "source": [
    "%matplotlib inline\n",
    "import operator\n",
    "import numpy as np\n",
    "import pandas as pd\n",
    "import matplotlib.pyplot as plt\n",
    "from sklearn.model_selection import train_test_split\n",
    "from sklearn.preprocessing import PolynomialFeatures\n",
    "from sklearn.linear_model import LinearRegression\n",
    "from sklearn.metrics import mean_squared_error"
   ]
  },
  {
   "cell_type": "markdown",
   "metadata": {},
   "source": [
    "### Reading the dataset"
   ]
  },
  {
   "cell_type": "code",
   "execution_count": 10,
   "metadata": {},
   "outputs": [],
   "source": [
    "filename = \"dataset.csv\"\n",
    "df = pd.read_csv(filename)\n",
    "\n",
    "# Get data in arrays\n",
    "x = df[['x']].values\n",
    "y = df.y.values"
   ]
  },
  {
   "cell_type": "markdown",
   "metadata": {},
   "source": [
    "### Train-validation split"
   ]
  },
  {
   "cell_type": "code",
   "execution_count": 11,
   "metadata": {},
   "outputs": [],
   "source": [
    "#xtrain, xtest, yinter, ytest = train_test_split(x, y, test_size=0.2, random_state=0)\n",
    "xtrain, xval, ytrain, yval = train_test_split(x, y, test_size=0.25, random_state=0)"
   ]
  },
  {
   "cell_type": "markdown",
   "metadata": {},
   "source": [
    "### Fitting a curve"
   ]
  },
  {
   "cell_type": "code",
   "execution_count": 12,
   "metadata": {},
   "outputs": [],
   "source": [
    "#Select degree of the curve\n",
    "degree = 1\n",
    "\n",
    "#Compute the polynomial features\n",
    "Xtrain = PolynomialFeatures(degree).fit_transform(xtrain)\n",
    "Xval = PolynomialFeatures(degree).fit_transform(xval)\n",
    "\n",
    "#Fit a linear regression model\n",
    "lreg = LinearRegression()\n",
    "lreg.fit(Xtrain, ytrain)\n",
    "ytrain_pred = lreg.predict(Xtrain)\n",
    "yval_pred = lreg.predict(Xval)"
   ]
  },
  {
   "cell_type": "markdown",
   "metadata": {},
   "source": [
    "### Plotting the validation curve "
   ]
  },
  {
   "cell_type": "code",
   "execution_count": null,
   "metadata": {},
   "outputs": [],
   "source": [
    "fig, ax = plt.subplots()\n",
    "ax.scatter(xtrain,ytrain,color='r', marker='o',label=\"Training data\")\n",
    "ax.scatter(xval,yval,color='b', marker='x',label=\"Validation data\")\n",
    "\n",
    "#Sort the values to plot the curve \n",
    "sort_axis = operator.itemgetter(0)\n",
    "sorted_zip = sorted(zip(xtrain,ytrain_pred), key=sort_axis)\n",
    "xtrain, ytrain_pred = zip(*sorted_zip)\n",
    "ax.plot(xtrain,ytrain_pred,color='k', label=\"Training\")\n",
    "ax.legend()\n",
    "plt.show()"
   ]
  },
  {
   "cell_type": "markdown",
   "metadata": {},
   "source": [
    "### Computing the train, validation and test error in terms of MSE"
   ]
  },
  {
   "cell_type": "code",
   "execution_count": 6,
   "metadata": {},
   "outputs": [],
   "source": [
    "# Select the maximum degree of the polynomial\n",
    "maxdeg = 16\n",
    "\n",
    "# Create two empty lists to store training and testing MSEs\n",
    "training_error, testing_error, validation_error = np.empty((3,maxdeg))\n",
    "\n",
    "#Run a for loop through the degrees of the polynomial, fit linear regression, predict y values and calculate the training and testing errors and update it to the list\n",
    "for d in range(maxdeg):\n",
    "    Xtrain = PolynomialFeatures(d).fit_transform(xtrain)\n",
    "    Xval = PolynomialFeatures(d).fit_transform(xval)\n",
    "    lreg = LinearRegression()\n",
    "    lreg.fit(Xtrain, ytrain)\n",
    "    ytrain_pred = lreg.predict(Xtrain)\n",
    "    yval_pred = lreg.predict(Xval)\n",
    "    \n",
    "    #Compute the MSE\n",
    "    training_error[d] = mean_squared_error(ytrain, ytrain_pred)\n",
    "    validation_error[d] = mean_squared_error(yval, yval_pred)\n",
    "    "
   ]
  },
  {
   "cell_type": "markdown",
   "metadata": {},
   "source": [
    "### Plotting the error graph"
   ]
  },
  {
   "cell_type": "code",
   "execution_count": null,
   "metadata": {},
   "outputs": [],
   "source": [
    "# Plot the errors as a function of increasing d value to visualise the training and testing errors\n",
    "fig, ax = plt.subplots()\n",
    "ax.plot(range(maxdeg), training_error, label = 'Training error')\n",
    "ax.plot(range(maxdeg), validation_error, label = 'Validation error')\n",
    "ax.set_xlabel('Degree of Polynomial')\n",
    "ax.set_ylabel('Mean Squared Error')\n",
    "ax.legend(loc = 'best')\n",
    "ax.set_yscale('log')\n",
    "#plt.show()"
   ]
  }
 ],
 "metadata": {
  "kernelspec": {
   "display_name": "Python 3",
   "language": "python",
   "name": "python3"
  },
  "language_info": {
   "codemirror_mode": {
    "name": "ipython",
    "version": 3
   },
   "file_extension": ".py",
   "mimetype": "text/x-python",
   "name": "python",
   "nbconvert_exporter": "python",
   "pygments_lexer": "ipython3",
   "version": "3.8.2"
  }
 },
 "nbformat": 4,
 "nbformat_minor": 2
}
