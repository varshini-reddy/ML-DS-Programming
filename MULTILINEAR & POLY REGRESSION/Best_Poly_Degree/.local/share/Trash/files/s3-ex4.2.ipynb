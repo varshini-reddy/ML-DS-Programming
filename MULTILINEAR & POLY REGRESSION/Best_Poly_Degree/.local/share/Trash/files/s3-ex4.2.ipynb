{
 "cells": [
  {
   "cell_type": "code",
   "execution_count": 3,
   "metadata": {},
   "outputs": [],
   "source": [
    "%matplotlib inline\n",
    "import operator\n",
    "import numpy as np\n",
    "import pandas as pd\n",
    "import matplotlib.pyplot as plt\n",
    "from sklearn.model_selection import train_test_split\n",
    "from sklearn.preprocessing import PolynomialFeatures\n",
    "from sklearn.linear_model import LinearRegression\n",
    "from sklearn.metrics import mean_squared_error"
   ]
  },
  {
   "cell_type": "markdown",
   "metadata": {},
   "source": [
    "### Reading the dataset"
   ]
  },
  {
   "cell_type": "code",
   "execution_count": 4,
   "metadata": {},
   "outputs": [],
   "source": [
    "#Read the file \"dataset.csv\" as a dataframe\n",
    "filename = \"dataset.csv\"\n",
    "df = pd.read_csv(___)\n",
    "\n",
    "# Assign the values to the predictor and response variables\n",
    "x = df[['x']].____\n",
    "y = df.y.___"
   ]
  },
  {
   "cell_type": "markdown",
   "metadata": {},
   "source": [
    "### Train-validation split"
   ]
  },
  {
   "cell_type": "code",
   "execution_count": 5,
   "metadata": {},
   "outputs": [],
   "source": [
    "#Split the dataset into train and validation sets with 75% Training set and 25% validation set. Set random_state=0\n",
    "xtrain, xval, ytrain, yval = train_test_split(___)"
   ]
  },
  {
   "cell_type": "markdown",
   "metadata": {},
   "source": [
    "### Fitting a curve"
   ]
  },
  {
   "cell_type": "code",
   "execution_count": 6,
   "metadata": {},
   "outputs": [],
   "source": [
    "#Select degree of the curve\n",
    "degree = ___\n",
    "\n",
    "#Compute the polynomial features for the chosen degree\n",
    "Xtrain = PolynomialFeatures(___).fit_transform(___)\n",
    "Xval = PolynomialFeatures(___).fit_transform(___)\n",
    "\n",
    "#Fit a linear regression model on the training data\n",
    "lreg = LinearRegression()\n",
    "lreg.fit(Xtrain, ytrain)\n",
    "\n",
    "#Predict the model on the train and validation set\n",
    "ytrain_pred = lreg.predict(___)\n",
    "yval_pred = lreg.predict(___)"
   ]
  },
  {
   "cell_type": "markdown",
   "metadata": {},
   "source": [
    "### Plotting the validation curve "
   ]
  },
  {
   "cell_type": "code",
   "execution_count": null,
   "metadata": {},
   "outputs": [],
   "source": [
    "fig, ax = plt.subplots()\n",
    "#Plot the training data\n",
    "ax.scatter(xtrain,ytrain,color='r', marker='o',label=\"Training data\")\n",
    "\n",
    "#Plot the validation data\n",
    "ax.scatter(xval,yval,color='b', marker='x',label=\"Validation data\")\n",
    "\n",
    "#Sort the x-values to plot the predicted curve \n",
    "sort_axis = operator.itemgetter(0)\n",
    "sorted_zip = sorted(zip(xtrain,ytrain_pred), key=sort_axis)\n",
    "xtrain, ytrain_pred = zip(*sorted_zip)\n",
    "\n",
    "#Plot the sorted predicted values\n",
    "ax.plot(xtrain,ytrain_pred,color='k')\n",
    "ax.legend()\n",
    "plt.show()"
   ]
  },
  {
   "cell_type": "markdown",
   "metadata": {},
   "source": [
    "### Computing the train and validation error in terms of MSE"
   ]
  },
  {
   "cell_type": "code",
   "execution_count": 8,
   "metadata": {},
   "outputs": [],
   "source": [
    "# Select the maximum degree of the polynomial\n",
    "maxdeg = 16\n",
    "\n",
    "# Create three empty lists to store training and testing MSEs\n",
    "training_error, testing_error, validation_error = np.empty((3,maxdeg))\n",
    "\n",
    "#Run a for loop through the degrees of the polynomial, fit linear regression, predict y values and calculate the training and testing errors and update it to the list\n",
    "for d in range(maxdeg):\n",
    "    Xtrain = PolynomialFeatures(d).fit_transform(xtrain)\n",
    "    Xval = PolynomialFeatures(d).fit_transform(xval)\n",
    "    lreg = LinearRegression()\n",
    "    lreg.fit(Xtrain, ytrain)\n",
    "    ytrain_pred = lreg.predict(Xtrain)\n",
    "    yval_pred = lreg.predict(Xval)\n",
    "    \n",
    "    #Compute the MSE\n",
    "    training_error[d] = mean_squared_error(ytrain, ytrain_pred)\n",
    "    validation_error[d] = mean_squared_error(yval, yval_pred)\n",
    "    "
   ]
  },
  {
   "cell_type": "markdown",
   "metadata": {},
   "source": [
    "### Plotting the error graph"
   ]
  },
  {
   "cell_type": "code",
   "execution_count": null,
   "metadata": {},
   "outputs": [],
   "source": [
    "# Plot the errors as a function of increasing d value to visualise the training and testing errors\n",
    "fig, ax = plt.subplots()\n",
    "ax.plot(range(maxdeg), training_error, label = 'Training error')\n",
    "ax.plot(range(maxdeg), validation_error, label = 'Validation error')\n",
    "ax.set_xlabel('Degree of Polynomial')\n",
    "ax.set_ylabel('Mean Squared Error')\n",
    "ax.legend(loc = 'best')\n",
    "ax.set_yscale('log')\n",
    "plt.show()"
   ]
  }
 ],
 "metadata": {
  "kernelspec": {
   "display_name": "Python 3",
   "language": "python",
   "name": "python3"
  },
  "language_info": {
   "codemirror_mode": {
    "name": "ipython",
    "version": 3
   },
   "file_extension": ".py",
   "mimetype": "text/x-python",
   "name": "python",
   "nbconvert_exporter": "python",
   "pygments_lexer": "ipython3",
   "version": "3.8.3"
  }
 },
 "nbformat": 4,
 "nbformat_minor": 2
}
