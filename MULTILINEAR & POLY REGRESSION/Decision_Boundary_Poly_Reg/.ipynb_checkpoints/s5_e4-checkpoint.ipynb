{
 "cells": [
  {
   "cell_type": "code",
   "execution_count": 1,
   "metadata": {
    "colab": {},
    "colab_type": "code",
    "id": "9grnGSASGOwm"
   },
   "outputs": [],
   "source": [
    "# Import required libraries\n",
    "\n",
    "%matplotlib inline\n",
    "import pandas as pd\n",
    "import numpy as np\n",
    "import matplotlib.pyplot as plt\n",
    "from sklearn.linear_model import LogisticRegression\n",
    "from sklearn.preprocessing import PolynomialFeatures\n",
    "from sklearn.model_selection import train_test_split\n",
    "from sklearn import metrics\n",
    "import scipy.optimize as opt\n",
    "from sklearn.metrics import accuracy_score"
   ]
  },
  {
   "cell_type": "code",
   "execution_count": 2,
   "metadata": {
    "colab": {},
    "colab_type": "code",
    "id": "DfKkJbAXGOwq"
   },
   "outputs": [],
   "source": [
    "# Load the file \"land_type.csv\" into a dataframe\n",
    "\n",
    "df = pd.read_csv(\"land_type.csv\")"
   ]
  },
  {
   "cell_type": "code",
   "execution_count": 3,
   "metadata": {},
   "outputs": [
    {
     "data": {
      "text/html": [
       "<div>\n",
       "<style scoped>\n",
       "    .dataframe tbody tr th:only-of-type {\n",
       "        vertical-align: middle;\n",
       "    }\n",
       "\n",
       "    .dataframe tbody tr th {\n",
       "        vertical-align: top;\n",
       "    }\n",
       "\n",
       "    .dataframe thead th {\n",
       "        text-align: right;\n",
       "    }\n",
       "</style>\n",
       "<table border=\"1\" class=\"dataframe\">\n",
       "  <thead>\n",
       "    <tr style=\"text-align: right;\">\n",
       "      <th></th>\n",
       "      <th>latitude</th>\n",
       "      <th>longitude</th>\n",
       "      <th>land_type</th>\n",
       "    </tr>\n",
       "  </thead>\n",
       "  <tbody>\n",
       "    <tr>\n",
       "      <th>0</th>\n",
       "      <td>-3.226989</td>\n",
       "      <td>-0.356542</td>\n",
       "      <td>0.0</td>\n",
       "    </tr>\n",
       "    <tr>\n",
       "      <th>1</th>\n",
       "      <td>-1.496209</td>\n",
       "      <td>0.416730</td>\n",
       "      <td>1.0</td>\n",
       "    </tr>\n",
       "    <tr>\n",
       "      <th>2</th>\n",
       "      <td>0.995726</td>\n",
       "      <td>-0.887490</td>\n",
       "      <td>1.0</td>\n",
       "    </tr>\n",
       "    <tr>\n",
       "      <th>3</th>\n",
       "      <td>0.633447</td>\n",
       "      <td>-1.898605</td>\n",
       "      <td>1.0</td>\n",
       "    </tr>\n",
       "    <tr>\n",
       "      <th>4</th>\n",
       "      <td>-0.076218</td>\n",
       "      <td>-0.794730</td>\n",
       "      <td>1.0</td>\n",
       "    </tr>\n",
       "  </tbody>\n",
       "</table>\n",
       "</div>"
      ],
      "text/plain": [
       "   latitude  longitude  land_type\n",
       "0 -3.226989  -0.356542        0.0\n",
       "1 -1.496209   0.416730        1.0\n",
       "2  0.995726  -0.887490        1.0\n",
       "3  0.633447  -1.898605        1.0\n",
       "4 -0.076218  -0.794730        1.0"
      ]
     },
     "execution_count": 3,
     "metadata": {},
     "output_type": "execute_result"
    }
   ],
   "source": [
    "df.head()"
   ]
  },
  {
   "cell_type": "code",
   "execution_count": 6,
   "metadata": {
    "colab": {},
    "colab_type": "code",
    "id": "DfKkJbAXGOwq"
   },
   "outputs": [],
   "source": [
    "# Assign the variable 'X' to the predictors & 'y' to the response \n",
    "\n",
    "X = df.drop(\"land_type\", axis=1).values\n",
    "\n",
    "y = df['land_type']"
   ]
  },
  {
   "cell_type": "markdown",
   "metadata": {
    "colab_type": "text",
    "id": "JxQvkAlHGOws"
   },
   "source": [
    "### Plotting data"
   ]
  },
  {
   "cell_type": "code",
   "execution_count": 17,
   "metadata": {
    "colab": {
     "base_uri": "https://localhost:8080/",
     "height": 369
    },
    "colab_type": "code",
    "id": "8MtSlf0pGOwt",
    "outputId": "cf5f6eb4-f5a2-47d9-fa3f-47c51c3de673"
   },
   "outputs": [
    {
     "data": {
      "image/png": "[encoded data removed]",
      "text/plain": [
       "<Figure size 360x360 with 1 Axes>"
      ]
     },
     "metadata": {
      "needs_background": "light"
     },
     "output_type": "display_data"
    }
   ],
   "source": [
    "# To visualise the trend, plot the response variables with the predictors (Latitude & Longitude)\n",
    "\n",
    "fig, ax = plt.subplots(1, 1, figsize=(5, 5))\n",
    "\n",
    "# Make separate lists of 'latitude' & 'longitude' values for y==1\n",
    "\n",
    "xlat_1 = X[y==1,0]\n",
    "xlong_1 = X[y==1,1]\n",
    "\n",
    "# Use the above lists to make a plot\n",
    "    \n",
    "ax.plot(xlat_1, xlong_1, 'o',c='green', markersize=9,label='Agricultural lands')\n",
    "\n",
    "# Repeat the same, but for y==0\n",
    "\n",
    "xlat_0 = X[y==0,0]\n",
    "xlong_0 = X[y==0,1]\n",
    "\n",
    "# Again, use above lists to make a plot\n",
    "\n",
    "ax.plot(xlat_0, xlong_0, 'o',c='brown', markersize=9,label='Dry lands', alpha=0.3)\n",
    "\n",
    "# Add labels\n",
    "\n",
    "ax.set_xlabel('Latitude')\n",
    "ax.set_ylabel('Longitude')\n",
    "ax.set_title('Satellite Image')\n",
    "\n",
    "ax.legend()\n",
    "plt.tight_layout()\n",
    "plt.show() "
   ]
  },
  {
   "cell_type": "code",
   "execution_count": 13,
   "metadata": {},
   "outputs": [],
   "source": [
    "# Split the dataset\n",
    "\n",
    "X_train, X_val, y_train, y_val = train_test_split(X,y)"
   ]
  },
  {
   "cell_type": "code",
   "execution_count": 15,
   "metadata": {
    "colab": {
     "base_uri": "https://localhost:8080/",
     "height": 542
    },
    "colab_type": "code",
    "id": "uPcUXJ84GOww",
    "outputId": "59f8b22f-5d64-4dc3-bb6c-653ea5f68452"
   },
   "outputs": [],
   "source": [
    "# Make a logistic regression model with below given C value\n",
    "\n",
    "c = 1e15\n",
    "\n",
    "lr = LogisticRegression(C=c, max_iter=16000)\n",
    "\n",
    "# Use Polynomial features to make a response variable of degree 10\n",
    "\n",
    "degree = 10\n",
    "\n",
    "X_poly_train = PolynomialFeatures(degree).fit_transform(X_train)\n",
    "\n",
    "X_poly_val = PolynomialFeatures(degree).fit_transform(X_val)"
   ]
  },
  {
   "cell_type": "code",
   "execution_count": 21,
   "metadata": {
    "colab": {
     "base_uri": "https://localhost:8080/",
     "height": 542
    },
    "colab_type": "code",
    "id": "uPcUXJ84GOww",
    "outputId": "59f8b22f-5d64-4dc3-bb6c-653ea5f68452"
   },
   "outputs": [
    {
     "name": "stdout",
     "output_type": "stream",
     "text": [
      "Accuracy= 0.82\n"
     ]
    }
   ],
   "source": [
    "lr.fit(X_poly_train, y_train)\n",
    "\n",
    "y_val_pred = lr.predict(X_poly_val)\n",
    "\n",
    "validation_accuracy = accuracy_score(y_val, y_val_pred)\n",
    "\n",
    "print(\"Accuracy=\",validation_accuracy)"
   ]
  },
  {
   "cell_type": "code",
   "execution_count": 28,
   "metadata": {
    "colab": {
     "base_uri": "https://localhost:8080/",
     "height": 542
    },
    "colab_type": "code",
    "id": "uPcUXJ84GOww",
    "outputId": "59f8b22f-5d64-4dc3-bb6c-653ea5f68452"
   },
   "outputs": [
    {
     "data": {
      "image/png": "[encoded data removed]",
      "text/plain": [
       "<Figure size 360x360 with 1 Axes>"
      ]
     },
     "metadata": {
      "needs_background": "light"
     },
     "output_type": "display_data"
    }
   ],
   "source": [
    "# Use the below helper code to visualise the number of dry land predictions our model got correct\n",
    "\n",
    "\n",
    "\n",
    "fig, ax = plt.subplots(1, 1, figsize=(5, 5))\n",
    "\n",
    "xlat_0 = X_val[y_val==0,0]\n",
    "xlong_0 = X_val[y_val==0,1]\n",
    "\n",
    "ax.plot(xlat_0, xlong_0, 'o',c='green',alpha = 0.6, markersize=9,label='Agricultural lands')\n",
    "\n",
    "xlat_1 = X_val[y_val==1,0]\n",
    "xlong_1 = X_val[y_val==1,1]\n",
    "\n",
    "ax.plot(xlat_1, xlong_1, 'o',c='brown', markersize=9,label='Dry lands', alpha=0.3)\n",
    "\n",
    "xlat_pred_1 = X_val[y_val_pred==1,0]\n",
    "xlong_pred_1 = X_val[y_val_pred==1,1]\n",
    "ax.plot(xlat_pred_1, xlong_pred_1, 'o',c='black', alpha = 0.6, markersize=4,label='Dry land Prediction')\n",
    "\n",
    "\n",
    "ax.set_xlabel('Latitude')\n",
    "ax.set_ylabel('Longitude')\n",
    "ax.set_title('Satellite Image')\n",
    "\n",
    "ax.legend()\n",
    "plt.tight_layout()\n",
    "plt.show() "
   ]
  },
  {
   "cell_type": "markdown",
   "metadata": {},
   "source": [
    "## Visualising the data\n",
    "\n",
    "For the section below, run the code to visualise the boundary for the predictions on a randomly generated gaussian data"
   ]
  },
  {
   "cell_type": "code",
   "execution_count": 60,
   "metadata": {},
   "outputs": [],
   "source": [
    "new_data = np.random.multivariate_normal([0, 0], np.eye(2) * 3, size=200)\n",
    "new_data = np.hstack((new_data, np.zeros((200, 1))))\n",
    "new_data[new_data[:, 0]**2 + new_data[:, 1]**2 < 3**2, 2] = np.random.choice([0, 1], len(new_data[new_data[:, 0]**2 + new_data[:, 1]**2 < 3**2]), p=[0.2, 0.8])\n",
    "\n",
    "X = new_data[:, :-1]\n",
    "y = new_data[:, -1]"
   ]
  },
  {
   "cell_type": "code",
   "execution_count": 61,
   "metadata": {
    "colab": {},
    "colab_type": "code",
    "id": "SsfQ6JKOGOwz"
   },
   "outputs": [],
   "source": [
    "# The below helper function, 'plot_boundary' plots the boundary for a given logistic regression function\n",
    "\n",
    "# The details are not important, but you are encouraged to review it after the exercise\n",
    "\n",
    "def plot_boundary(x, y, model, title, ax, plot_data=True, fill=True, color='Greens',degree=0):\n",
    "    \n",
    "    \n",
    "    if plot_data:\n",
    "        # PLOT DATA\n",
    "        ax.scatter(x[y==1,0], x[y==1,1], c='green')\n",
    "        ax.scatter(x[y==0,0], x[y==0,1], c='brown')\n",
    "    \n",
    "    # CREATE MESH\n",
    "    interval = np.arange(min(x.min(), y.min()),max(x.max(), y.max()),0.01)\n",
    "    n = np.size(interval)\n",
    "    x1, x2 = np.meshgrid(interval, interval)\n",
    "    x1 = x1.reshape(-1,1)\n",
    "    x2 = x2.reshape(-1,1)\n",
    "    xx = np.concatenate((x1, x2), axis=1)\n",
    "\n",
    "    # PREDICT ON MESH POINTS\n",
    "    xxpoly = PolynomialFeatures(degree).fit_transform(xx)\n",
    "    yy = model.predict(xxpoly)    \n",
    "    yy = yy.reshape((n, n))\n",
    "\n",
    "    # PLOT DECISION SURFACE\n",
    "    x1 = x1.reshape(n, n)\n",
    "    x2 = x2.reshape(n, n)\n",
    "    if fill:\n",
    "        ax.contourf(x1, x2, yy, alpha=0.5, cmap=color)\n",
    "    else:\n",
    "        ax.contour(x1, x2, yy, alpha=0.5, cmap=color)\n",
    "    \n",
    "    # LABEL AXIS, TITLE\n",
    "    ax.set_title(title)\n",
    "    ax.set_xlabel('Latitude')\n",
    "    ax.set_ylabel('Longitude')\n",
    "    \n",
    "    return ax"
   ]
  },
  {
   "cell_type": "code",
   "execution_count": 62,
   "metadata": {
    "colab": {},
    "colab_type": "code",
    "id": "t011IstIGOw2"
   },
   "outputs": [],
   "source": [
    "# The helper function below, fits a Logistic Regression model, and plots the boundary around it using the function above\n",
    "\n",
    "def fit_and_plot_dt(x, y, c, title, ax, plot_data=True, fill=True, color='Blues',degree=0):\n",
    "\n",
    "    lreg = LogisticRegression(C=c, max_iter=6000)\n",
    "\n",
    "    x1 = PolynomialFeatures(degree).fit_transform(x)\n",
    "    lreg.fit(x1, y)\n",
    "\n",
    "    # PLOT DECISION TREE BOUNDARY\n",
    "    ax = plot_boundary(x, y, lreg, title, ax, plot_data, fill, color,degree=degree)\n",
    "    \n",
    "    return ax"
   ]
  },
  {
   "cell_type": "code",
   "execution_count": 67,
   "metadata": {
    "colab": {
     "base_uri": "https://localhost:8080/",
     "height": 525
    },
    "colab_type": "code",
    "id": "nh9lqRS6GOw7",
    "outputId": "fc6da47a-2658-4525-c65b-cce0ab40b5b9"
   },
   "outputs": [
    {
     "data": {
      "image/png": "[encoded data removed]",
      "text/plain": [
       "<Figure size 360x360 with 1 Axes>"
      ]
     },
     "metadata": {
      "needs_background": "light"
     },
     "output_type": "display_data"
    }
   ],
   "source": [
    "# Plot the decision boundary using the functions defined above\n",
    "\n",
    "fig, ax = plt.subplots(figsize=(5, 5))\n",
    "\n",
    "C_value = 1e15\n",
    "\n",
    "degree = 6\n",
    "\n",
    "ax = fit_and_plot_dt(X, y, C_value, 'Satellite',ax, plot_data=True, fill=False,degree=degree) \n",
    "\n",
    "\n",
    "ax.set_xlim(-6, 6)\n",
    "ax.set_ylim(-6, 6)\n",
    "\n",
    "plt.tight_layout()\n",
    "plt.show() "
   ]
  },
  {
   "cell_type": "markdown",
   "metadata": {},
   "source": [
    "## Observations\n",
    "Play around with the following parameters:\n",
    "\n",
    "- C_value\n",
    "- degree\n",
    "\n",
    "Based on your observations, answer the questions below:\n",
    "\n",
    "- How does the plot change with varying `C_value`\n",
    "\n",
    "- How does the plot change with varying `degree`\n",
    "\n",
    "- With high values of `degree` do you see more complicated contours?\n",
    "\n",
    "- Does a more complicated plot suggest *overfitting* or *underfitting*?"
   ]
  },
  {
   "cell_type": "code",
   "execution_count": null,
   "metadata": {},
   "outputs": [],
   "source": []
  }
 ],
 "metadata": {
  "colab": {
   "name": "s5_e4.ipynb",
   "provenance": []
  },
  "kernelspec": {
   "display_name": "Python 3",
   "language": "python",
   "name": "python3"
  },
  "language_info": {
   "codemirror_mode": {
    "name": "ipython",
    "version": 3
   },
   "file_extension": ".py",
   "mimetype": "text/x-python",
   "name": "python",
   "nbconvert_exporter": "python",
   "pygments_lexer": "ipython3",
   "version": "3.8.5"
  }
 },
 "nbformat": 4,
 "nbformat_minor": 4
}
