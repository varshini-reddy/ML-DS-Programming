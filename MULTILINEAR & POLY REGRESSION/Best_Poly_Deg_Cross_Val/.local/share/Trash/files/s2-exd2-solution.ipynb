{
 "cells": [
  {
   "cell_type": "code",
   "execution_count": 1,
   "metadata": {},
   "outputs": [],
   "source": [
    "#import libraries\n",
    "%matplotlib inline\n",
    "import operator\n",
    "import numpy as np\n",
    "import pandas as pd\n",
    "import matplotlib.pyplot as plt\n",
    "from sklearn.model_selection import cross_validate\n",
    "from sklearn.model_selection import train_test_split\n",
    "from sklearn.preprocessing import PolynomialFeatures\n",
    "from sklearn.linear_model import LinearRegression\n",
    "from sklearn.metrics import mean_squared_error"
   ]
  },
  {
   "cell_type": "markdown",
   "metadata": {},
   "source": [
    "### Reading the dataset"
   ]
  },
  {
   "cell_type": "code",
   "execution_count": 2,
   "metadata": {},
   "outputs": [],
   "source": [
    "#Read the file \"dataset.csv\" as a dataframe\n",
    "\n",
    "filename = \"dataset.csv\"\n",
    "\n",
    "df = pd.read_csv(filename)"
   ]
  },
  {
   "cell_type": "code",
   "execution_count": 3,
   "metadata": {},
   "outputs": [],
   "source": [
    "# Assign the values to the predictor and response variables\n",
    "\n",
    "x = df[['x']].values\n",
    "y = df.y.values"
   ]
  },
  {
   "cell_type": "markdown",
   "metadata": {},
   "source": [
    "### Train-validation split"
   ]
  },
  {
   "cell_type": "code",
   "execution_count": 4,
   "metadata": {},
   "outputs": [],
   "source": [
    "#Split the data into train and validation sets with 75% for training and with a random_state=1\n",
    "x_train, x_val, y_train, y_val = train_test_split(x, y, test_size=0.25, random_state=0)"
   ]
  },
  {
   "cell_type": "markdown",
   "metadata": {},
   "source": [
    "### Computing the MSE"
   ]
  },
  {
   "cell_type": "code",
   "execution_count": 5,
   "metadata": {},
   "outputs": [],
   "source": [
    "### edTest(test_regression) ###\n",
    "\n",
    "# To iterate over the range, select the maximum degree of the polynomial\n",
    "maxdeg = 10\n",
    "\n",
    "# Create three empty lists to store training, validation and cross-validation MSEs\n",
    "training_error, validation_error, cross_validation_error = [],[],[]\n",
    "\n",
    "#Run a for loop through the degrees of the polynomial, fit linear regression, predict y values and calculate the training and testing errors and update it to the list\n",
    "for d in range(maxdeg):\n",
    "    \n",
    "    #Compute the polynomial features for the entire data, train data and validation data\n",
    "    x_poly_train = PolynomialFeatures(d).fit_transform(x_train)\n",
    "    x_poly_val = PolynomialFeatures(d).fit_transform(x_val)\n",
    "    x_poly = PolynomialFeatures(d).fit_transform(x)\n",
    "\n",
    "    #Get a Linear Regression object\n",
    "    lreg = LinearRegression()\n",
    "    \n",
    "    #Perform cross-validation on the entire data with 10 folds and get the mse_scores\n",
    "    mse_score = cross_validate(lreg, x_poly, y, cv=10, scoring=\"neg_mean_squared_error\",return_train_score=True)\n",
    "    \n",
    "    #Fit data on the training set\n",
    "    lreg.fit(x_poly_train, y_train)\n",
    "\n",
    "    y_train_pred = lreg.predict(x_poly_train)\n",
    "    y_val_pred = lreg.predict(x_poly_val)\n",
    "    \n",
    "    #Compute the train and validation MSE\n",
    "    \n",
    "    training_error.append(mean_squared_error(y_train, y_train_pred))\n",
    "    validation_error.append(mean_squared_error(y_val, y_val_pred))\n",
    "    \n",
    "    #Compute the mean of the cross validation error and \n",
    "    cross_validation_error.append(np.mean(-mse_score['test_score']))"
   ]
  },
  {
   "cell_type": "markdown",
   "metadata": {},
   "source": [
    "### Finding the best degree"
   ]
  },
  {
   "cell_type": "code",
   "execution_count": null,
   "metadata": {},
   "outputs": [],
   "source": [
    "### edTest(test_best_degree) ###\n",
    "\n",
    "#The best degree with the lowest validation error\n",
    "min_mse = min(validation_error)\n",
    "best_degree = validation_error.index(min_mse)\n",
    "\n",
    "\n",
    "#The best degree with the lowest cross-validation error\n",
    "min_cross_val_mse = min(cross_validation_error)\n",
    "best_cross_val_degree = cross_validation_error.index(min_cross_val_mse)\n",
    "\n",
    "\n",
    "print(\"The best degree of the model using validation is\",best_degree)\n",
    "print(\"The best degree of the model using cross-validation is\",best_cross_val_degree)"
   ]
  },
  {
   "cell_type": "markdown",
   "metadata": {},
   "source": [
    "### Plotting the error graph"
   ]
  },
  {
   "cell_type": "code",
   "execution_count": null,
   "metadata": {
    "jupyter": {
     "outputs_hidden": true
    }
   },
   "outputs": [],
   "source": [
    "# Plot the errors as a function of increasing d value to visualise the training and validation errors\n",
    "\n",
    "fig, ax = plt.subplots()\n",
    "\n",
    "#Plot the training error with labels\n",
    "\n",
    "ax.plot(range(maxdeg), training_error, label = 'Training error')\n",
    "\n",
    "#Plot the cross-validation error with labels\n",
    "\n",
    "ax.plot(range(maxdeg), cross_validation_error, label = 'Cross-Validation error')\n",
    "\n",
    "# Set the plot labels and legends\n",
    "\n",
    "ax.set_xlabel('Degree of Polynomial')\n",
    "ax.set_ylabel('Mean Squared Error')\n",
    "ax.legend(loc = 'best')\n",
    "ax.set_yscale('log')\n",
    "plt.show()\n"
   ]
  },
  {
   "cell_type": "markdown",
   "metadata": {},
   "source": [
    "#### Once you have marked your exercise, run again with Random_state = 0"
   ]
  },
  {
   "cell_type": "markdown",
   "metadata": {},
   "source": [
    "#### Do you see any change in the results with change in the random state? If so, what do you think is the reason behind it?"
   ]
  },
  {
   "cell_type": "markdown",
   "metadata": {},
   "source": [
    " Your answer here"
   ]
  }
 ],
 "metadata": {
  "kernelspec": {
   "display_name": "Python 3",
   "language": "python",
   "name": "python3"
  },
  "language_info": {
   "codemirror_mode": {
    "name": "ipython",
    "version": 3
   },
   "file_extension": ".py",
   "mimetype": "text/x-python",
   "name": "python",
   "nbconvert_exporter": "python",
   "pygments_lexer": "ipython3",
   "version": "3.8.5"
  }
 },
 "nbformat": 4,
 "nbformat_minor": 4
}
