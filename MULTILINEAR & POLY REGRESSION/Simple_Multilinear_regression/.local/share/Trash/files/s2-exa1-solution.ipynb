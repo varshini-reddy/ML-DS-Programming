{
 "cells": [
  {
   "cell_type": "code",
   "execution_count": 1,
   "metadata": {},
   "outputs": [],
   "source": [
    "import pandas as pd\n",
    "import matplotlib.pyplot as plt\n",
    "import numpy as np\n",
    "from sklearn.linear_model import LinearRegression\n",
    "from sklearn.metrics import mean_squared_error\n",
    "from sklearn.model_selection import train_test_split\n",
    "from sklearn import preprocessing\n",
    "from sklearn.metrics import mean_squared_error\n",
    "from prettytable import PrettyTable"
   ]
  },
  {
   "cell_type": "markdown",
   "metadata": {},
   "source": [
    "### Reading the dataset"
   ]
  },
  {
   "cell_type": "code",
   "execution_count": 2,
   "metadata": {},
   "outputs": [],
   "source": [
    "df = pd.read_csv(\"Advertising.csv\")"
   ]
  },
  {
   "cell_type": "markdown",
   "metadata": {},
   "source": [
    "### Finding the best predictor(s)"
   ]
  },
  {
   "cell_type": "code",
   "execution_count": 3,
   "metadata": {},
   "outputs": [],
   "source": [
    "#List to store the MSE values\n",
    "mse_list = []\n",
    "\n",
    "#List of all predictor combinations to fit the curve\n",
    "cols = [['TV'],['Radio'],['Newspaper'],['TV','Radio'],['TV','Newspaper'],['Radio','Newspaper'],['TV','Radio','Newspaper']]\n",
    "\n",
    "for i in cols:\n",
    "    #Set each of the predictors from the previous list as x\n",
    "    x = df[i]\n",
    "    y = df['Sales']\n",
    "    \n",
    "    \n",
    "    #Splitting the data into train-test sets with 80% training data and 20% testing data. \n",
    "    #Set random_state as 0\n",
    "    xtrain, xtest, ytrain, ytest = train_test_split(x, y, test_size=0.2, random_state= 0)\n",
    "\n",
    "    #Fit a linear regression\n",
    "    lreg = LinearRegression()\n",
    "    lreg.fit(xtrain, ytrain)\n",
    "    y_pred= lreg.predict(xtest)\n",
    "    \n",
    "    #Compute the MSE\n",
    "    MSE = mean_squared_error(ytest, y_pred, squared=True)\n",
    "    mse_list.append(round(MSE,5))\n"
   ]
  },
  {
   "cell_type": "markdown",
   "metadata": {},
   "source": [
    "### Display the MSE with predictor combinations"
   ]
  },
  {
   "cell_type": "code",
   "execution_count": 4,
   "metadata": {},
   "outputs": [
    {
     "name": "stdout",
     "output_type": "stream",
     "text": [
      "+------------------------------+----------+\n",
      "|          Predictors          |   MSE    |\n",
      "+------------------------------+----------+\n",
      "|            ['TV']            | 10.18618 |\n",
      "|          ['Radio']           | 24.23723 |\n",
      "|        ['Newspaper']         | 32.13715 |\n",
      "|       ['TV', 'Radio']        | 4.39143  |\n",
      "|     ['TV', 'Newspaper']      | 8.68768  |\n",
      "|    ['Radio', 'Newspaper']    | 24.7834  |\n",
      "| ['TV', 'Radio', 'Newspaper'] | 4.40212  |\n",
      "+------------------------------+----------+\n"
     ]
    }
   ],
   "source": [
    "t = PrettyTable(['Predictors', 'MSE'])\n",
    "for i in range(len(mse_list)):\n",
    "    t.add_row([cols[i],mse_list[i]])\n",
    "\n",
    "print(t)"
   ]
  }
 ],
 "metadata": {
  "kernelspec": {
   "display_name": "Python 3",
   "language": "python",
   "name": "python3"
  },
  "language_info": {
   "codemirror_mode": {
    "name": "ipython",
    "version": 3
   },
   "file_extension": ".py",
   "mimetype": "text/x-python",
   "name": "python",
   "nbconvert_exporter": "python",
   "pygments_lexer": "ipython3",
   "version": "3.8.5"
  }
 },
 "nbformat": 4,
 "nbformat_minor": 2
}
